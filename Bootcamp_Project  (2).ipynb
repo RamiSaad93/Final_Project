{
 "cells": [
  {
   "cell_type": "code",
   "execution_count": 1,
   "id": "852ed0ee",
   "metadata": {},
   "outputs": [
    {
     "name": "stdout",
     "output_type": "stream",
     "text": [
      "Requirement already satisfied: pandas in c:\\users\\ramya\\anaconda3\\lib\\site-packages (1.4.4)\n",
      "Requirement already satisfied: geopandas in c:\\users\\ramya\\anaconda3\\lib\\site-packages (0.14.4)\n",
      "Requirement already satisfied: shapely in c:\\users\\ramya\\anaconda3\\lib\\site-packages (2.0.4)\n",
      "Requirement already satisfied: python-dateutil>=2.8.1 in c:\\users\\ramya\\anaconda3\\lib\\site-packages (from pandas) (2.8.2)\n",
      "Requirement already satisfied: numpy>=1.18.5 in c:\\users\\ramya\\anaconda3\\lib\\site-packages (from pandas) (1.24.4)\n",
      "Requirement already satisfied: pytz>=2020.1 in c:\\users\\ramya\\anaconda3\\lib\\site-packages (from pandas) (2022.1)\n",
      "Requirement already satisfied: pyproj>=3.3.0 in c:\\users\\ramya\\anaconda3\\lib\\site-packages (from geopandas) (3.6.1)\n",
      "Requirement already satisfied: fiona>=1.8.21 in c:\\users\\ramya\\anaconda3\\lib\\site-packages (from geopandas) (1.9.6)\n",
      "Requirement already satisfied: packaging in c:\\users\\ramya\\anaconda3\\lib\\site-packages (from geopandas) (21.3)\n",
      "Requirement already satisfied: attrs>=19.2.0 in c:\\users\\ramya\\anaconda3\\lib\\site-packages (from fiona>=1.8.21->geopandas) (21.4.0)\n",
      "Requirement already satisfied: six in c:\\users\\ramya\\anaconda3\\lib\\site-packages (from fiona>=1.8.21->geopandas) (1.16.0)\n",
      "Requirement already satisfied: importlib-metadata in c:\\users\\ramya\\anaconda3\\lib\\site-packages (from fiona>=1.8.21->geopandas) (4.11.3)\n",
      "Requirement already satisfied: certifi in c:\\users\\ramya\\anaconda3\\lib\\site-packages (from fiona>=1.8.21->geopandas) (2024.2.2)\n",
      "Requirement already satisfied: click-plugins>=1.0 in c:\\users\\ramya\\anaconda3\\lib\\site-packages (from fiona>=1.8.21->geopandas) (1.1.1)\n",
      "Requirement already satisfied: cligj>=0.5 in c:\\users\\ramya\\anaconda3\\lib\\site-packages (from fiona>=1.8.21->geopandas) (0.7.2)\n",
      "Requirement already satisfied: click~=8.0 in c:\\users\\ramya\\anaconda3\\lib\\site-packages (from fiona>=1.8.21->geopandas) (8.0.4)\n",
      "Requirement already satisfied: pyparsing!=3.0.5,>=2.0.2 in c:\\users\\ramya\\anaconda3\\lib\\site-packages (from packaging->geopandas) (3.0.9)\n",
      "Requirement already satisfied: colorama in c:\\users\\ramya\\anaconda3\\lib\\site-packages (from click~=8.0->fiona>=1.8.21->geopandas) (0.4.5)\n",
      "Requirement already satisfied: zipp>=0.5 in c:\\users\\ramya\\anaconda3\\lib\\site-packages (from importlib-metadata->fiona>=1.8.21->geopandas) (3.8.0)\n",
      "Requirement already satisfied: imbalanced-learn in c:\\users\\ramya\\anaconda3\\lib\\site-packages (0.12.2)\n",
      "Requirement already satisfied: numpy>=1.17.3 in c:\\users\\ramya\\anaconda3\\lib\\site-packages (from imbalanced-learn) (1.24.4)\n",
      "Requirement already satisfied: scikit-learn>=1.0.2 in c:\\users\\ramya\\anaconda3\\lib\\site-packages (from imbalanced-learn) (1.0.2)\n",
      "Requirement already satisfied: joblib>=1.1.1 in c:\\users\\ramya\\anaconda3\\lib\\site-packages (from imbalanced-learn) (1.4.2)\n",
      "Requirement already satisfied: scipy>=1.5.0 in c:\\users\\ramya\\anaconda3\\lib\\site-packages (from imbalanced-learn) (1.9.1)\n",
      "Requirement already satisfied: threadpoolctl>=2.0.0 in c:\\users\\ramya\\anaconda3\\lib\\site-packages (from imbalanced-learn) (2.2.0)\n"
     ]
    }
   ],
   "source": [
    "import seaborn as sns\n",
    "import pandas as pd\n",
    "import numpy as np\n",
    "\n",
    "from datetime import datetime\n",
    "\n",
    "!pip install pandas geopandas shapely\n",
    "\n",
    "\n",
    "from sklearn.datasets import load_iris, fetch_california_housing\n",
    "import matplotlib.pyplot as plt\n",
    "\n",
    "from sklearn.neighbors import KNeighborsClassifier, KNeighborsRegressor\n",
    "from sklearn.linear_model import LinearRegression, LogisticRegression\n",
    "from sklearn.tree import DecisionTreeRegressor\n",
    "from sklearn.ensemble import BaggingRegressor, RandomForestRegressor,AdaBoostRegressor, GradientBoostingRegressor\n",
    "\n",
    "from sklearn.model_selection import train_test_split\n",
    "\n",
    "from imblearn.over_sampling import SMOTE\n",
    "!pip install imbalanced-learn\n",
    "\n",
    "from sklearn.metrics import mean_squared_error, mean_absolute_error\n",
    "\n",
    "from sklearn.preprocessing import MinMaxScaler, StandardScaler"
   ]
  },
  {
   "cell_type": "code",
   "execution_count": 2,
   "id": "bb1ac896",
   "metadata": {},
   "outputs": [],
   "source": [
    "path_1 = \"E:\\\\BootCamp_Project\\\\202301-divvy-tripdata.csv\"\n",
    "path_2 = \"E:\\\\BootCamp_Project\\\\202302-divvy-tripdata.csv\"\n",
    "path_3 = \"E:\\\\BootCamp_Project\\\\202303-divvy-tripdata.csv\"\n",
    "path_4 = \"E:\\\\BootCamp_Project\\\\202304-divvy-tripdata.csv\"\n",
    "path_5 = \"E:\\\\BootCamp_Project\\\\202305-divvy-tripdata.csv\"\n",
    "path_6 = \"E:\\\\BootCamp_Project\\\\202306-divvy-tripdata.csv\"\n",
    "path_7 = \"E:\\\\BootCamp_Project\\\\202307-divvy-tripdata.csv\"\n",
    "path_8 = \"E:\\\\BootCamp_Project\\\\202308-divvy-tripdata.csv\"\n",
    "path_9 = \"E:\\\\BootCamp_Project\\\\202309-divvy-tripdata.csv\"\n",
    "path_10 = \"E:\\\\BootCamp_Project\\\\202310-divvy-tripdata.csv\"\n",
    "path_11 = \"E:\\\\BootCamp_Project\\\\202311-divvy-tripdata.csv\"\n",
    "path_12 = \"E:\\\\BootCamp_Project\\\\202312-divvy-tripdata.csv\""
   ]
  },
  {
   "cell_type": "code",
   "execution_count": 3,
   "id": "905ff986",
   "metadata": {},
   "outputs": [],
   "source": [
    "df_1 = pd.read_csv(path_1)\n",
    "df_2 = pd.read_csv(path_2)\n",
    "df_3 = pd.read_csv(path_3)"
   ]
  },
  {
   "cell_type": "code",
   "execution_count": 4,
   "id": "7de6ea81",
   "metadata": {},
   "outputs": [],
   "source": [
    "df_4 = pd.read_csv(path_4)\n",
    "df_5 = pd.read_csv(path_5)\n",
    "df_6 = pd.read_csv(path_6)"
   ]
  },
  {
   "cell_type": "code",
   "execution_count": 5,
   "id": "4b3196b2",
   "metadata": {},
   "outputs": [],
   "source": [
    "df_7 = pd.read_csv(path_7)\n",
    "df_8 = pd.read_csv(path_8)\n",
    "df_9 = pd.read_csv(path_9)"
   ]
  },
  {
   "cell_type": "code",
   "execution_count": 6,
   "id": "15db5a44",
   "metadata": {},
   "outputs": [],
   "source": [
    "df_10 = pd.read_csv(path_10)\n",
    "df_11 = pd.read_csv(path_11)\n",
    "df_12 = pd.read_csv(path_12)"
   ]
  },
  {
   "cell_type": "code",
   "execution_count": null,
   "id": "880dec47",
   "metadata": {},
   "outputs": [],
   "source": [
    "df_1"
   ]
  },
  {
   "cell_type": "code",
   "execution_count": null,
   "id": "ba9c910a",
   "metadata": {},
   "outputs": [],
   "source": [
    "dfs = {\n",
    "    'df_1': df_1,\n",
    "    'df_2': df_2,\n",
    "    'df_3': df_3,\n",
    "    'df_4': df_4,\n",
    "    'df_5': df_5,\n",
    "    'df_6': df_6,\n",
    "    'df_7': df_7,\n",
    "    'df_8': df_8,\n",
    "    'df_9': df_9,\n",
    "    'df_10': df_10,\n",
    "    'df_11': df_11,\n",
    "    'df_12': df_12,\n",
    "}\n",
    "\n",
    "for name, df in dfs.items():\n",
    "    print(f\"The shape of {name} is {df.shape}\")"
   ]
  },
  {
   "cell_type": "code",
   "execution_count": null,
   "id": "7346ce12",
   "metadata": {},
   "outputs": [],
   "source": [
    "df_1 = df_1.drop(columns = ['ride_id'])\n",
    "df_2 = df_2.drop(columns = ['ride_id'])\n",
    "df_3 = df_3.drop(columns = ['ride_id'])\n",
    "df_4 = df_4.drop(columns = ['ride_id'])\n",
    "df_5 = df_5.drop(columns = ['ride_id'])\n",
    "df_6 = df_6.drop(columns = ['ride_id'])\n",
    "df_7 = df_7.drop(columns = ['ride_id'])\n",
    "df_8 = df_8.drop(columns = ['ride_id'])\n",
    "df_9 = df_9.drop(columns = ['ride_id'])\n",
    "df_10 = df_10.drop(columns = ['ride_id'])\n",
    "df_11 = df_11.drop(columns = ['ride_id'])\n",
    "df_12 = df_12.drop(columns = ['ride_id'])"
   ]
  },
  {
   "cell_type": "code",
   "execution_count": 7,
   "id": "1c4cb224",
   "metadata": {},
   "outputs": [],
   "source": [
    "df_list = [df_1, df_2, df_3, df_4, df_5, df_6, df_7, df_8, df_9, df_10, df_11, df_12]"
   ]
  },
  {
   "cell_type": "code",
   "execution_count": 8,
   "id": "7ab1f429",
   "metadata": {},
   "outputs": [],
   "source": [
    "df = pd.concat(df_list, axis = 0)"
   ]
  },
  {
   "cell_type": "code",
   "execution_count": null,
   "id": "c3e4e497",
   "metadata": {},
   "outputs": [],
   "source": [
    "df"
   ]
  },
  {
   "cell_type": "code",
   "execution_count": 9,
   "id": "b33a2417",
   "metadata": {},
   "outputs": [],
   "source": [
    "df.sort_values(by='started_at', ascending=True, inplace = True)"
   ]
  },
  {
   "cell_type": "code",
   "execution_count": 10,
   "id": "77a18648",
   "metadata": {},
   "outputs": [],
   "source": [
    "df = df.reset_index()"
   ]
  },
  {
   "cell_type": "code",
   "execution_count": null,
   "id": "e8f167b2",
   "metadata": {},
   "outputs": [],
   "source": [
    "df"
   ]
  },
  {
   "cell_type": "code",
   "execution_count": null,
   "id": "5d584fe5",
   "metadata": {},
   "outputs": [],
   "source": [
    "df.isna().sum()"
   ]
  },
  {
   "cell_type": "code",
   "execution_count": null,
   "id": "f2384beb",
   "metadata": {},
   "outputs": [],
   "source": [
    "df.dtypes"
   ]
  },
  {
   "cell_type": "code",
   "execution_count": 11,
   "id": "803a6a46",
   "metadata": {},
   "outputs": [],
   "source": [
    "df['started_at'] = pd.to_datetime(df['started_at'])"
   ]
  },
  {
   "cell_type": "code",
   "execution_count": 12,
   "id": "5b1e1114",
   "metadata": {},
   "outputs": [],
   "source": [
    "df['ended_at'] = pd.to_datetime(df['ended_at'])"
   ]
  },
  {
   "cell_type": "code",
   "execution_count": null,
   "id": "027f822d",
   "metadata": {},
   "outputs": [],
   "source": [
    "df.dtypes"
   ]
  },
  {
   "cell_type": "code",
   "execution_count": 13,
   "id": "783ef6d3",
   "metadata": {},
   "outputs": [],
   "source": [
    "df.drop(columns = ['index'], inplace = True)"
   ]
  },
  {
   "cell_type": "code",
   "execution_count": null,
   "id": "72461e88",
   "metadata": {},
   "outputs": [],
   "source": [
    "df"
   ]
  },
  {
   "cell_type": "code",
   "execution_count": 14,
   "id": "c2429402",
   "metadata": {},
   "outputs": [],
   "source": [
    "df['started_at_day'] = df['started_at'].dt.day_name()\n",
    "df['started_at_month'] = df['started_at'].dt.month_name()\n",
    "df['started_at_hour'] = df['started_at'].dt.hour "
   ]
  },
  {
   "cell_type": "code",
   "execution_count": null,
   "id": "d4b1736e",
   "metadata": {},
   "outputs": [],
   "source": [
    "df"
   ]
  },
  {
   "cell_type": "code",
   "execution_count": 15,
   "id": "dc503dc3",
   "metadata": {},
   "outputs": [],
   "source": [
    "df_filtered = df[df['ended_at'] >= df['started_at']]"
   ]
  },
  {
   "cell_type": "code",
   "execution_count": 16,
   "id": "945a9909",
   "metadata": {},
   "outputs": [],
   "source": [
    "df_filtered.reset_index(inplace = True)"
   ]
  },
  {
   "cell_type": "code",
   "execution_count": 17,
   "id": "c42765ff",
   "metadata": {},
   "outputs": [
    {
     "name": "stderr",
     "output_type": "stream",
     "text": [
      "C:\\Users\\ramya\\AppData\\Local\\Temp\\ipykernel_7232\\353398977.py:1: SettingWithCopyWarning: \n",
      "A value is trying to be set on a copy of a slice from a DataFrame\n",
      "\n",
      "See the caveats in the documentation: https://pandas.pydata.org/pandas-docs/stable/user_guide/indexing.html#returning-a-view-versus-a-copy\n",
      "  df_filtered.drop(columns = ['index'], inplace = True)\n"
     ]
    },
    {
     "data": {
      "text/html": [
       "<div>\n",
       "<style scoped>\n",
       "    .dataframe tbody tr th:only-of-type {\n",
       "        vertical-align: middle;\n",
       "    }\n",
       "\n",
       "    .dataframe tbody tr th {\n",
       "        vertical-align: top;\n",
       "    }\n",
       "\n",
       "    .dataframe thead th {\n",
       "        text-align: right;\n",
       "    }\n",
       "</style>\n",
       "<table border=\"1\" class=\"dataframe\">\n",
       "  <thead>\n",
       "    <tr style=\"text-align: right;\">\n",
       "      <th></th>\n",
       "      <th>ride_id</th>\n",
       "      <th>rideable_type</th>\n",
       "      <th>started_at</th>\n",
       "      <th>ended_at</th>\n",
       "      <th>start_station_name</th>\n",
       "      <th>start_station_id</th>\n",
       "      <th>end_station_name</th>\n",
       "      <th>end_station_id</th>\n",
       "      <th>start_lat</th>\n",
       "      <th>start_lng</th>\n",
       "      <th>end_lat</th>\n",
       "      <th>end_lng</th>\n",
       "      <th>member_casual</th>\n",
       "      <th>started_at_day</th>\n",
       "      <th>started_at_month</th>\n",
       "      <th>started_at_hour</th>\n",
       "    </tr>\n",
       "  </thead>\n",
       "  <tbody>\n",
       "    <tr>\n",
       "      <th>0</th>\n",
       "      <td>53F0F248F28485D2</td>\n",
       "      <td>electric_bike</td>\n",
       "      <td>2023-01-01 00:01:58</td>\n",
       "      <td>2023-01-01 00:02:41</td>\n",
       "      <td>NaN</td>\n",
       "      <td>NaN</td>\n",
       "      <td>NaN</td>\n",
       "      <td>NaN</td>\n",
       "      <td>41.800000</td>\n",
       "      <td>-87.590000</td>\n",
       "      <td>41.800000</td>\n",
       "      <td>-87.590000</td>\n",
       "      <td>casual</td>\n",
       "      <td>Sunday</td>\n",
       "      <td>January</td>\n",
       "      <td>0</td>\n",
       "    </tr>\n",
       "    <tr>\n",
       "      <th>1</th>\n",
       "      <td>D8EEE72183269F07</td>\n",
       "      <td>classic_bike</td>\n",
       "      <td>2023-01-01 00:02:06</td>\n",
       "      <td>2023-01-01 00:29:46</td>\n",
       "      <td>Fairbanks Ct &amp; Grand Ave</td>\n",
       "      <td>TA1305000003</td>\n",
       "      <td>New St &amp; Illinois St</td>\n",
       "      <td>TA1306000013</td>\n",
       "      <td>41.891847</td>\n",
       "      <td>-87.620580</td>\n",
       "      <td>41.890847</td>\n",
       "      <td>-87.618617</td>\n",
       "      <td>member</td>\n",
       "      <td>Sunday</td>\n",
       "      <td>January</td>\n",
       "      <td>0</td>\n",
       "    </tr>\n",
       "    <tr>\n",
       "      <th>2</th>\n",
       "      <td>E5AD797A579842F8</td>\n",
       "      <td>electric_bike</td>\n",
       "      <td>2023-01-01 00:03:26</td>\n",
       "      <td>2023-01-01 00:07:23</td>\n",
       "      <td>Sheridan Rd &amp; Loyola Ave</td>\n",
       "      <td>RP-009</td>\n",
       "      <td>Sheridan Rd &amp; Loyola Ave</td>\n",
       "      <td>RP-009</td>\n",
       "      <td>42.001139</td>\n",
       "      <td>-87.661256</td>\n",
       "      <td>42.001044</td>\n",
       "      <td>-87.661198</td>\n",
       "      <td>casual</td>\n",
       "      <td>Sunday</td>\n",
       "      <td>January</td>\n",
       "      <td>0</td>\n",
       "    </tr>\n",
       "    <tr>\n",
       "      <th>3</th>\n",
       "      <td>8FBD2AD70B0F6A6F</td>\n",
       "      <td>classic_bike</td>\n",
       "      <td>2023-01-01 00:04:07</td>\n",
       "      <td>2023-01-01 00:13:56</td>\n",
       "      <td>Leavitt St &amp; Lawrence Ave</td>\n",
       "      <td>TA1309000015</td>\n",
       "      <td>Broadway &amp; Argyle St</td>\n",
       "      <td>13108</td>\n",
       "      <td>41.968885</td>\n",
       "      <td>-87.684001</td>\n",
       "      <td>41.973815</td>\n",
       "      <td>-87.659660</td>\n",
       "      <td>casual</td>\n",
       "      <td>Sunday</td>\n",
       "      <td>January</td>\n",
       "      <td>0</td>\n",
       "    </tr>\n",
       "    <tr>\n",
       "      <th>4</th>\n",
       "      <td>B05BD052B9EBB767</td>\n",
       "      <td>electric_bike</td>\n",
       "      <td>2023-01-01 00:04:27</td>\n",
       "      <td>2023-01-01 00:16:52</td>\n",
       "      <td>Clark St &amp; Montrose Ave</td>\n",
       "      <td>KA1503000022</td>\n",
       "      <td>Clark St &amp; Montrose Ave</td>\n",
       "      <td>KA1503000022</td>\n",
       "      <td>41.961545</td>\n",
       "      <td>-87.666189</td>\n",
       "      <td>41.961588</td>\n",
       "      <td>-87.666036</td>\n",
       "      <td>member</td>\n",
       "      <td>Sunday</td>\n",
       "      <td>January</td>\n",
       "      <td>0</td>\n",
       "    </tr>\n",
       "    <tr>\n",
       "      <th>...</th>\n",
       "      <td>...</td>\n",
       "      <td>...</td>\n",
       "      <td>...</td>\n",
       "      <td>...</td>\n",
       "      <td>...</td>\n",
       "      <td>...</td>\n",
       "      <td>...</td>\n",
       "      <td>...</td>\n",
       "      <td>...</td>\n",
       "      <td>...</td>\n",
       "      <td>...</td>\n",
       "      <td>...</td>\n",
       "      <td>...</td>\n",
       "      <td>...</td>\n",
       "      <td>...</td>\n",
       "      <td>...</td>\n",
       "    </tr>\n",
       "    <tr>\n",
       "      <th>5719600</th>\n",
       "      <td>6FB217B8B8152D9B</td>\n",
       "      <td>electric_bike</td>\n",
       "      <td>2023-12-31 23:55:28</td>\n",
       "      <td>2024-01-01 00:24:15</td>\n",
       "      <td>McClurg Ct &amp; Ohio St</td>\n",
       "      <td>TA1306000029</td>\n",
       "      <td>Fairbanks Ct &amp; Grand Ave</td>\n",
       "      <td>TA1305000003</td>\n",
       "      <td>41.892036</td>\n",
       "      <td>-87.616815</td>\n",
       "      <td>41.891847</td>\n",
       "      <td>-87.620580</td>\n",
       "      <td>member</td>\n",
       "      <td>Sunday</td>\n",
       "      <td>December</td>\n",
       "      <td>23</td>\n",
       "    </tr>\n",
       "    <tr>\n",
       "      <th>5719601</th>\n",
       "      <td>8AD57B777CDD8F65</td>\n",
       "      <td>electric_bike</td>\n",
       "      <td>2023-12-31 23:56:28</td>\n",
       "      <td>2024-01-01 00:00:43</td>\n",
       "      <td>Michigan Ave &amp; Lake St</td>\n",
       "      <td>TA1305000011</td>\n",
       "      <td>NaN</td>\n",
       "      <td>NaN</td>\n",
       "      <td>41.886146</td>\n",
       "      <td>-87.624730</td>\n",
       "      <td>41.890000</td>\n",
       "      <td>-87.620000</td>\n",
       "      <td>casual</td>\n",
       "      <td>Sunday</td>\n",
       "      <td>December</td>\n",
       "      <td>23</td>\n",
       "    </tr>\n",
       "    <tr>\n",
       "      <th>5719602</th>\n",
       "      <td>0E2173686F7778E5</td>\n",
       "      <td>electric_bike</td>\n",
       "      <td>2023-12-31 23:57:01</td>\n",
       "      <td>2023-12-31 23:59:26</td>\n",
       "      <td>Michigan Ave &amp; Lake St</td>\n",
       "      <td>TA1305000011</td>\n",
       "      <td>NaN</td>\n",
       "      <td>NaN</td>\n",
       "      <td>41.886145</td>\n",
       "      <td>-87.624771</td>\n",
       "      <td>41.890000</td>\n",
       "      <td>-87.620000</td>\n",
       "      <td>member</td>\n",
       "      <td>Sunday</td>\n",
       "      <td>December</td>\n",
       "      <td>23</td>\n",
       "    </tr>\n",
       "    <tr>\n",
       "      <th>5719603</th>\n",
       "      <td>E3ADFD6C7743E816</td>\n",
       "      <td>electric_bike</td>\n",
       "      <td>2023-12-31 23:58:55</td>\n",
       "      <td>2024-01-01 00:06:08</td>\n",
       "      <td>Wolcott (Ravenswood) Ave &amp; Montrose Ave</td>\n",
       "      <td>TA1307000144</td>\n",
       "      <td>Sheridan Rd &amp; Montrose Ave</td>\n",
       "      <td>TA1307000107</td>\n",
       "      <td>41.961456</td>\n",
       "      <td>-87.676323</td>\n",
       "      <td>41.961670</td>\n",
       "      <td>-87.654640</td>\n",
       "      <td>casual</td>\n",
       "      <td>Sunday</td>\n",
       "      <td>December</td>\n",
       "      <td>23</td>\n",
       "    </tr>\n",
       "    <tr>\n",
       "      <th>5719604</th>\n",
       "      <td>BBD15A044CC0CFCB</td>\n",
       "      <td>electric_bike</td>\n",
       "      <td>2023-12-31 23:59:38</td>\n",
       "      <td>2024-01-01 00:00:16</td>\n",
       "      <td>NaN</td>\n",
       "      <td>NaN</td>\n",
       "      <td>NaN</td>\n",
       "      <td>NaN</td>\n",
       "      <td>41.890000</td>\n",
       "      <td>-87.620000</td>\n",
       "      <td>41.890000</td>\n",
       "      <td>-87.620000</td>\n",
       "      <td>member</td>\n",
       "      <td>Sunday</td>\n",
       "      <td>December</td>\n",
       "      <td>23</td>\n",
       "    </tr>\n",
       "  </tbody>\n",
       "</table>\n",
       "<p>5719605 rows × 16 columns</p>\n",
       "</div>"
      ],
      "text/plain": [
       "                  ride_id  rideable_type          started_at  \\\n",
       "0        53F0F248F28485D2  electric_bike 2023-01-01 00:01:58   \n",
       "1        D8EEE72183269F07   classic_bike 2023-01-01 00:02:06   \n",
       "2        E5AD797A579842F8  electric_bike 2023-01-01 00:03:26   \n",
       "3        8FBD2AD70B0F6A6F   classic_bike 2023-01-01 00:04:07   \n",
       "4        B05BD052B9EBB767  electric_bike 2023-01-01 00:04:27   \n",
       "...                   ...            ...                 ...   \n",
       "5719600  6FB217B8B8152D9B  electric_bike 2023-12-31 23:55:28   \n",
       "5719601  8AD57B777CDD8F65  electric_bike 2023-12-31 23:56:28   \n",
       "5719602  0E2173686F7778E5  electric_bike 2023-12-31 23:57:01   \n",
       "5719603  E3ADFD6C7743E816  electric_bike 2023-12-31 23:58:55   \n",
       "5719604  BBD15A044CC0CFCB  electric_bike 2023-12-31 23:59:38   \n",
       "\n",
       "                   ended_at                       start_station_name  \\\n",
       "0       2023-01-01 00:02:41                                      NaN   \n",
       "1       2023-01-01 00:29:46                 Fairbanks Ct & Grand Ave   \n",
       "2       2023-01-01 00:07:23                 Sheridan Rd & Loyola Ave   \n",
       "3       2023-01-01 00:13:56                Leavitt St & Lawrence Ave   \n",
       "4       2023-01-01 00:16:52                  Clark St & Montrose Ave   \n",
       "...                     ...                                      ...   \n",
       "5719600 2024-01-01 00:24:15                     McClurg Ct & Ohio St   \n",
       "5719601 2024-01-01 00:00:43                   Michigan Ave & Lake St   \n",
       "5719602 2023-12-31 23:59:26                   Michigan Ave & Lake St   \n",
       "5719603 2024-01-01 00:06:08  Wolcott (Ravenswood) Ave & Montrose Ave   \n",
       "5719604 2024-01-01 00:00:16                                      NaN   \n",
       "\n",
       "        start_station_id            end_station_name end_station_id  \\\n",
       "0                    NaN                         NaN            NaN   \n",
       "1           TA1305000003        New St & Illinois St   TA1306000013   \n",
       "2                 RP-009    Sheridan Rd & Loyola Ave         RP-009   \n",
       "3           TA1309000015        Broadway & Argyle St          13108   \n",
       "4           KA1503000022     Clark St & Montrose Ave   KA1503000022   \n",
       "...                  ...                         ...            ...   \n",
       "5719600     TA1306000029    Fairbanks Ct & Grand Ave   TA1305000003   \n",
       "5719601     TA1305000011                         NaN            NaN   \n",
       "5719602     TA1305000011                         NaN            NaN   \n",
       "5719603     TA1307000144  Sheridan Rd & Montrose Ave   TA1307000107   \n",
       "5719604              NaN                         NaN            NaN   \n",
       "\n",
       "         start_lat  start_lng    end_lat    end_lng member_casual  \\\n",
       "0        41.800000 -87.590000  41.800000 -87.590000        casual   \n",
       "1        41.891847 -87.620580  41.890847 -87.618617        member   \n",
       "2        42.001139 -87.661256  42.001044 -87.661198        casual   \n",
       "3        41.968885 -87.684001  41.973815 -87.659660        casual   \n",
       "4        41.961545 -87.666189  41.961588 -87.666036        member   \n",
       "...            ...        ...        ...        ...           ...   \n",
       "5719600  41.892036 -87.616815  41.891847 -87.620580        member   \n",
       "5719601  41.886146 -87.624730  41.890000 -87.620000        casual   \n",
       "5719602  41.886145 -87.624771  41.890000 -87.620000        member   \n",
       "5719603  41.961456 -87.676323  41.961670 -87.654640        casual   \n",
       "5719604  41.890000 -87.620000  41.890000 -87.620000        member   \n",
       "\n",
       "        started_at_day started_at_month  started_at_hour  \n",
       "0               Sunday          January                0  \n",
       "1               Sunday          January                0  \n",
       "2               Sunday          January                0  \n",
       "3               Sunday          January                0  \n",
       "4               Sunday          January                0  \n",
       "...                ...              ...              ...  \n",
       "5719600         Sunday         December               23  \n",
       "5719601         Sunday         December               23  \n",
       "5719602         Sunday         December               23  \n",
       "5719603         Sunday         December               23  \n",
       "5719604         Sunday         December               23  \n",
       "\n",
       "[5719605 rows x 16 columns]"
      ]
     },
     "execution_count": 17,
     "metadata": {},
     "output_type": "execute_result"
    }
   ],
   "source": [
    "df_filtered.drop(columns = ['index'], inplace = True)\n",
    "df_filtered"
   ]
  },
  {
   "cell_type": "code",
   "execution_count": null,
   "id": "ac699db2",
   "metadata": {},
   "outputs": [],
   "source": [
    "################################"
   ]
  },
  {
   "cell_type": "code",
   "execution_count": 18,
   "id": "c47945de",
   "metadata": {},
   "outputs": [
    {
     "name": "stderr",
     "output_type": "stream",
     "text": [
      "C:\\Users\\ramya\\AppData\\Local\\Temp\\ipykernel_7232\\1661623090.py:1: SettingWithCopyWarning: \n",
      "A value is trying to be set on a copy of a slice from a DataFrame.\n",
      "Try using .loc[row_indexer,col_indexer] = value instead\n",
      "\n",
      "See the caveats in the documentation: https://pandas.pydata.org/pandas-docs/stable/user_guide/indexing.html#returning-a-view-versus-a-copy\n",
      "  df_filtered['month'] = df_filtered['started_at'].dt.to_period('M')\n"
     ]
    }
   ],
   "source": [
    "df_filtered['month'] = df_filtered['started_at'].dt.to_period('M')"
   ]
  },
  {
   "cell_type": "code",
   "execution_count": 19,
   "id": "62ae4534",
   "metadata": {},
   "outputs": [],
   "source": [
    "monthly_rides = df_filtered.groupby('month').size()"
   ]
  },
  {
   "cell_type": "code",
   "execution_count": 20,
   "id": "73b2fff7",
   "metadata": {},
   "outputs": [],
   "source": [
    "monthly_rides_df_2023 = monthly_rides.to_frame(name='ride_count').reset_index()\n",
    "monthly_rides_df_2023['month'] = monthly_rides_df_2023['month'].dt.to_timestamp()\n",
    "monthly_rides_df_2023.set_index('month', inplace=True)"
   ]
  },
  {
   "cell_type": "code",
   "execution_count": null,
   "id": "8d88b74a",
   "metadata": {},
   "outputs": [],
   "source": [
    "print(monthly_rides_df_2023)"
   ]
  },
  {
   "cell_type": "code",
   "execution_count": null,
   "id": "203efe13",
   "metadata": {},
   "outputs": [],
   "source": [
    "#monthly_rides_df_2023.to_csv(\"monthly_rides_df_2023.csv\")"
   ]
  },
  {
   "cell_type": "code",
   "execution_count": null,
   "id": "3d33d3f2",
   "metadata": {},
   "outputs": [],
   "source": [
    "################################"
   ]
  },
  {
   "cell_type": "code",
   "execution_count": 21,
   "id": "2bed7217",
   "metadata": {
    "scrolled": true
   },
   "outputs": [
    {
     "name": "stderr",
     "output_type": "stream",
     "text": [
      "C:\\Users\\ramya\\AppData\\Local\\Temp\\ipykernel_7232\\1389217222.py:1: SettingWithCopyWarning: \n",
      "A value is trying to be set on a copy of a slice from a DataFrame.\n",
      "Try using .loc[row_indexer,col_indexer] = value instead\n",
      "\n",
      "See the caveats in the documentation: https://pandas.pydata.org/pandas-docs/stable/user_guide/indexing.html#returning-a-view-versus-a-copy\n",
      "  df_filtered['ride_time'] = df_filtered['ended_at'] - df_filtered['started_at']\n"
     ]
    }
   ],
   "source": [
    "df_filtered['ride_time'] = df_filtered['ended_at'] - df_filtered['started_at']"
   ]
  },
  {
   "cell_type": "code",
   "execution_count": null,
   "id": "911f62b3",
   "metadata": {},
   "outputs": [],
   "source": [
    "df_filtered"
   ]
  },
  {
   "cell_type": "code",
   "execution_count": null,
   "id": "e389175d",
   "metadata": {
    "scrolled": true
   },
   "outputs": [],
   "source": [
    "df_filtered['end_station_name'].value_counts().head(60)"
   ]
  },
  {
   "cell_type": "code",
   "execution_count": null,
   "id": "4f0553a6",
   "metadata": {
    "scrolled": true
   },
   "outputs": [],
   "source": [
    "df_filtered['start_station_name'].value_counts().head(60)"
   ]
  },
  {
   "cell_type": "code",
   "execution_count": null,
   "id": "d5044a9e",
   "metadata": {},
   "outputs": [],
   "source": [
    "df_filtered['started_at_day'].value_counts()"
   ]
  },
  {
   "cell_type": "code",
   "execution_count": null,
   "id": "a84f3f60",
   "metadata": {},
   "outputs": [],
   "source": [
    "df_filtered['started_at_month'].value_counts()"
   ]
  },
  {
   "cell_type": "code",
   "execution_count": null,
   "id": "67f1321d",
   "metadata": {},
   "outputs": [],
   "source": [
    "df_filtered['started_at_hour'].value_counts()"
   ]
  },
  {
   "cell_type": "code",
   "execution_count": null,
   "id": "92847698",
   "metadata": {},
   "outputs": [],
   "source": [
    "df_filtered['rideable_type'].value_counts()"
   ]
  },
  {
   "cell_type": "code",
   "execution_count": null,
   "id": "9e4c722d",
   "metadata": {},
   "outputs": [],
   "source": [
    "df_filtered['member_casual'].value_counts()"
   ]
  },
  {
   "cell_type": "code",
   "execution_count": null,
   "id": "6075a5f8",
   "metadata": {},
   "outputs": [],
   "source": [
    "df_filtered.groupby('member_casual')['ride_time'].mean()"
   ]
  },
  {
   "cell_type": "code",
   "execution_count": null,
   "id": "5924a2af",
   "metadata": {},
   "outputs": [],
   "source": [
    "df_filtered.groupby(['started_at_hour', 'member_casual'])[['member_casual']].count()"
   ]
  },
  {
   "cell_type": "code",
   "execution_count": null,
   "id": "87c236dc",
   "metadata": {},
   "outputs": [],
   "source": [
    "df_filtered.groupby('started_at_hour')[['member_casual']].count()"
   ]
  },
  {
   "cell_type": "code",
   "execution_count": 22,
   "id": "109658b9",
   "metadata": {
    "scrolled": true
   },
   "outputs": [],
   "source": [
    "df_mem_cas_star_stat = pd.DataFrame(df_filtered.groupby(['member_casual', 'start_station_name'])['start_station_name'].count())"
   ]
  },
  {
   "cell_type": "code",
   "execution_count": null,
   "id": "b1e7ffcb",
   "metadata": {},
   "outputs": [],
   "source": [
    "df_mem_cas_star_stat"
   ]
  },
  {
   "cell_type": "code",
   "execution_count": 23,
   "id": "42d2bba4",
   "metadata": {},
   "outputs": [],
   "source": [
    "df_mem_cas_end_stat = pd.DataFrame(df_filtered.groupby(['member_casual', 'end_station_name'])['end_station_name'].count())"
   ]
  },
  {
   "cell_type": "code",
   "execution_count": null,
   "id": "6c9b07ad",
   "metadata": {},
   "outputs": [],
   "source": [
    "#df_filtered.to_csv('df_BC.csv', index=False)"
   ]
  },
  {
   "cell_type": "code",
   "execution_count": null,
   "id": "ee1265b6",
   "metadata": {},
   "outputs": [],
   "source": [
    "df_filtered"
   ]
  },
  {
   "cell_type": "code",
   "execution_count": null,
   "id": "4ea228a6",
   "metadata": {},
   "outputs": [],
   "source": [
    "df_filtered.dtypes"
   ]
  },
  {
   "cell_type": "code",
   "execution_count": 24,
   "id": "f1559137",
   "metadata": {},
   "outputs": [
    {
     "name": "stderr",
     "output_type": "stream",
     "text": [
      "C:\\Users\\ramya\\AppData\\Local\\Temp\\ipykernel_7232\\256039670.py:1: SettingWithCopyWarning: \n",
      "A value is trying to be set on a copy of a slice from a DataFrame.\n",
      "Try using .loc[row_indexer,col_indexer] = value instead\n",
      "\n",
      "See the caveats in the documentation: https://pandas.pydata.org/pandas-docs/stable/user_guide/indexing.html#returning-a-view-versus-a-copy\n",
      "  df_filtered['ride_time_1'] = pd.to_datetime(df_filtered['started_at'])\n"
     ]
    }
   ],
   "source": [
    "df_filtered['ride_time_1'] = pd.to_datetime(df_filtered['started_at'])"
   ]
  },
  {
   "cell_type": "code",
   "execution_count": null,
   "id": "7593e835",
   "metadata": {},
   "outputs": [],
   "source": [
    "df_filtered"
   ]
  },
  {
   "cell_type": "code",
   "execution_count": 25,
   "id": "2c530a73",
   "metadata": {},
   "outputs": [
    {
     "name": "stderr",
     "output_type": "stream",
     "text": [
      "C:\\Users\\ramya\\AppData\\Local\\Temp\\ipykernel_7232\\993581274.py:1: SettingWithCopyWarning: \n",
      "A value is trying to be set on a copy of a slice from a DataFrame.\n",
      "Try using .loc[row_indexer,col_indexer] = value instead\n",
      "\n",
      "See the caveats in the documentation: https://pandas.pydata.org/pandas-docs/stable/user_guide/indexing.html#returning-a-view-versus-a-copy\n",
      "  df_filtered['rides_in_minutes'] = df_filtered['ride_time'].dt.total_seconds() / 60\n"
     ]
    }
   ],
   "source": [
    "df_filtered['rides_in_minutes'] = df_filtered['ride_time'].dt.total_seconds() / 60"
   ]
  },
  {
   "cell_type": "code",
   "execution_count": null,
   "id": "5dad36ac",
   "metadata": {},
   "outputs": [],
   "source": [
    "df_filtered"
   ]
  },
  {
   "cell_type": "code",
   "execution_count": 26,
   "id": "9c82fd85",
   "metadata": {},
   "outputs": [
    {
     "name": "stderr",
     "output_type": "stream",
     "text": [
      "C:\\Users\\ramya\\AppData\\Local\\Temp\\ipykernel_7232\\2335986619.py:1: SettingWithCopyWarning: \n",
      "A value is trying to be set on a copy of a slice from a DataFrame.\n",
      "Try using .loc[row_indexer,col_indexer] = value instead\n",
      "\n",
      "See the caveats in the documentation: https://pandas.pydata.org/pandas-docs/stable/user_guide/indexing.html#returning-a-view-versus-a-copy\n",
      "  df_filtered['rides_in_minutes'] = np.ceil(df_filtered['ride_time'].dt.total_seconds() / 60)\n"
     ]
    }
   ],
   "source": [
    "df_filtered['rides_in_minutes'] = np.ceil(df_filtered['ride_time'].dt.total_seconds() / 60)"
   ]
  },
  {
   "cell_type": "code",
   "execution_count": null,
   "id": "108f2c1f",
   "metadata": {},
   "outputs": [],
   "source": [
    "df_filtered"
   ]
  },
  {
   "cell_type": "code",
   "execution_count": null,
   "id": "50a276b3",
   "metadata": {},
   "outputs": [],
   "source": [
    "#df_filtered.to_csv('df_BC_1.csv', index=False)"
   ]
  },
  {
   "cell_type": "code",
   "execution_count": 30,
   "id": "00026886",
   "metadata": {},
   "outputs": [],
   "source": [
    "url = \"C:\\\\Users\\\\ramya\\\\Downloads\\\\chicago_weather_2023.csv\"\n",
    "weather_df = pd.read_csv(url)"
   ]
  },
  {
   "cell_type": "code",
   "execution_count": 31,
   "id": "544e4f9f",
   "metadata": {},
   "outputs": [
    {
     "data": {
      "text/html": [
       "<div>\n",
       "<style scoped>\n",
       "    .dataframe tbody tr th:only-of-type {\n",
       "        vertical-align: middle;\n",
       "    }\n",
       "\n",
       "    .dataframe tbody tr th {\n",
       "        vertical-align: top;\n",
       "    }\n",
       "\n",
       "    .dataframe thead th {\n",
       "        text-align: right;\n",
       "    }\n",
       "</style>\n",
       "<table border=\"1\" class=\"dataframe\">\n",
       "  <thead>\n",
       "    <tr style=\"text-align: right;\">\n",
       "      <th></th>\n",
       "      <th>Date\\tMax\\tMin\\tAvg</th>\n",
       "    </tr>\n",
       "  </thead>\n",
       "  <tbody>\n",
       "    <tr>\n",
       "      <th>0</th>\n",
       "      <td>1/1/2023\\t45\\t37\\t41</td>\n",
       "    </tr>\n",
       "    <tr>\n",
       "      <th>1</th>\n",
       "      <td>1/2/2023\\t43\\t32\\t37.5</td>\n",
       "    </tr>\n",
       "    <tr>\n",
       "      <th>2</th>\n",
       "      <td>1/3/2023\\t48\\t39\\t43.5</td>\n",
       "    </tr>\n",
       "    <tr>\n",
       "      <th>3</th>\n",
       "      <td>1/4/2023\\t44\\t33\\t38.5</td>\n",
       "    </tr>\n",
       "    <tr>\n",
       "      <th>4</th>\n",
       "      <td>1/5/2023\\t34\\t32\\t33</td>\n",
       "    </tr>\n",
       "    <tr>\n",
       "      <th>...</th>\n",
       "      <td>...</td>\n",
       "    </tr>\n",
       "    <tr>\n",
       "      <th>360</th>\n",
       "      <td>12/27/2023\\t42\\t30\\t36</td>\n",
       "    </tr>\n",
       "    <tr>\n",
       "      <th>361</th>\n",
       "      <td>12/28/2023\\t42\\t34\\t38</td>\n",
       "    </tr>\n",
       "    <tr>\n",
       "      <th>362</th>\n",
       "      <td>12/29/2023\\t40\\t31\\t35.5</td>\n",
       "    </tr>\n",
       "    <tr>\n",
       "      <th>363</th>\n",
       "      <td>12/30/2023\\t37\\t27\\t32</td>\n",
       "    </tr>\n",
       "    <tr>\n",
       "      <th>364</th>\n",
       "      <td>12/31/2023\\t36\\t31\\t33.5</td>\n",
       "    </tr>\n",
       "  </tbody>\n",
       "</table>\n",
       "<p>365 rows × 1 columns</p>\n",
       "</div>"
      ],
      "text/plain": [
       "          Date\\tMax\\tMin\\tAvg\n",
       "0        1/1/2023\\t45\\t37\\t41\n",
       "1      1/2/2023\\t43\\t32\\t37.5\n",
       "2      1/3/2023\\t48\\t39\\t43.5\n",
       "3      1/4/2023\\t44\\t33\\t38.5\n",
       "4        1/5/2023\\t34\\t32\\t33\n",
       "..                        ...\n",
       "360    12/27/2023\\t42\\t30\\t36\n",
       "361    12/28/2023\\t42\\t34\\t38\n",
       "362  12/29/2023\\t40\\t31\\t35.5\n",
       "363    12/30/2023\\t37\\t27\\t32\n",
       "364  12/31/2023\\t36\\t31\\t33.5\n",
       "\n",
       "[365 rows x 1 columns]"
      ]
     },
     "execution_count": 31,
     "metadata": {},
     "output_type": "execute_result"
    }
   ],
   "source": [
    "weather_df"
   ]
  },
  {
   "cell_type": "code",
   "execution_count": 32,
   "id": "a37c2a5f",
   "metadata": {},
   "outputs": [
    {
     "name": "stdout",
     "output_type": "stream",
     "text": [
      "           Date Max Min   Avg\n",
      "0      1/1/2023  45  37    41\n",
      "1      1/2/2023  43  32  37.5\n",
      "2      1/3/2023  48  39  43.5\n",
      "3      1/4/2023  44  33  38.5\n",
      "4      1/5/2023  34  32    33\n",
      "..          ...  ..  ..   ...\n",
      "360  12/27/2023  42  30    36\n",
      "361  12/28/2023  42  34    38\n",
      "362  12/29/2023  40  31  35.5\n",
      "363  12/30/2023  37  27    32\n",
      "364  12/31/2023  36  31  33.5\n",
      "\n",
      "[365 rows x 4 columns]\n"
     ]
    }
   ],
   "source": [
    "weather_df_mod = weather_df['Date\\tMax\\tMin\\tAvg'].str.split('\\t', expand=True)\n",
    "\n",
    "# Rename columns\n",
    "weather_df_mod.columns = ['Date', 'Max', 'Min', 'Avg']\n",
    "\n",
    "print(weather_df_mod)"
   ]
  },
  {
   "cell_type": "code",
   "execution_count": 33,
   "id": "54c2eef4",
   "metadata": {},
   "outputs": [
    {
     "data": {
      "text/html": [
       "<div>\n",
       "<style scoped>\n",
       "    .dataframe tbody tr th:only-of-type {\n",
       "        vertical-align: middle;\n",
       "    }\n",
       "\n",
       "    .dataframe tbody tr th {\n",
       "        vertical-align: top;\n",
       "    }\n",
       "\n",
       "    .dataframe thead th {\n",
       "        text-align: right;\n",
       "    }\n",
       "</style>\n",
       "<table border=\"1\" class=\"dataframe\">\n",
       "  <thead>\n",
       "    <tr style=\"text-align: right;\">\n",
       "      <th></th>\n",
       "      <th>Date</th>\n",
       "      <th>Max</th>\n",
       "      <th>Min</th>\n",
       "      <th>Avg</th>\n",
       "    </tr>\n",
       "  </thead>\n",
       "  <tbody>\n",
       "    <tr>\n",
       "      <th>0</th>\n",
       "      <td>1/1/2023</td>\n",
       "      <td>45</td>\n",
       "      <td>37</td>\n",
       "      <td>41</td>\n",
       "    </tr>\n",
       "    <tr>\n",
       "      <th>1</th>\n",
       "      <td>1/2/2023</td>\n",
       "      <td>43</td>\n",
       "      <td>32</td>\n",
       "      <td>37.5</td>\n",
       "    </tr>\n",
       "    <tr>\n",
       "      <th>2</th>\n",
       "      <td>1/3/2023</td>\n",
       "      <td>48</td>\n",
       "      <td>39</td>\n",
       "      <td>43.5</td>\n",
       "    </tr>\n",
       "    <tr>\n",
       "      <th>3</th>\n",
       "      <td>1/4/2023</td>\n",
       "      <td>44</td>\n",
       "      <td>33</td>\n",
       "      <td>38.5</td>\n",
       "    </tr>\n",
       "    <tr>\n",
       "      <th>4</th>\n",
       "      <td>1/5/2023</td>\n",
       "      <td>34</td>\n",
       "      <td>32</td>\n",
       "      <td>33</td>\n",
       "    </tr>\n",
       "    <tr>\n",
       "      <th>...</th>\n",
       "      <td>...</td>\n",
       "      <td>...</td>\n",
       "      <td>...</td>\n",
       "      <td>...</td>\n",
       "    </tr>\n",
       "    <tr>\n",
       "      <th>360</th>\n",
       "      <td>12/27/2023</td>\n",
       "      <td>42</td>\n",
       "      <td>30</td>\n",
       "      <td>36</td>\n",
       "    </tr>\n",
       "    <tr>\n",
       "      <th>361</th>\n",
       "      <td>12/28/2023</td>\n",
       "      <td>42</td>\n",
       "      <td>34</td>\n",
       "      <td>38</td>\n",
       "    </tr>\n",
       "    <tr>\n",
       "      <th>362</th>\n",
       "      <td>12/29/2023</td>\n",
       "      <td>40</td>\n",
       "      <td>31</td>\n",
       "      <td>35.5</td>\n",
       "    </tr>\n",
       "    <tr>\n",
       "      <th>363</th>\n",
       "      <td>12/30/2023</td>\n",
       "      <td>37</td>\n",
       "      <td>27</td>\n",
       "      <td>32</td>\n",
       "    </tr>\n",
       "    <tr>\n",
       "      <th>364</th>\n",
       "      <td>12/31/2023</td>\n",
       "      <td>36</td>\n",
       "      <td>31</td>\n",
       "      <td>33.5</td>\n",
       "    </tr>\n",
       "  </tbody>\n",
       "</table>\n",
       "<p>365 rows × 4 columns</p>\n",
       "</div>"
      ],
      "text/plain": [
       "           Date Max Min   Avg\n",
       "0      1/1/2023  45  37    41\n",
       "1      1/2/2023  43  32  37.5\n",
       "2      1/3/2023  48  39  43.5\n",
       "3      1/4/2023  44  33  38.5\n",
       "4      1/5/2023  34  32    33\n",
       "..          ...  ..  ..   ...\n",
       "360  12/27/2023  42  30    36\n",
       "361  12/28/2023  42  34    38\n",
       "362  12/29/2023  40  31  35.5\n",
       "363  12/30/2023  37  27    32\n",
       "364  12/31/2023  36  31  33.5\n",
       "\n",
       "[365 rows x 4 columns]"
      ]
     },
     "execution_count": 33,
     "metadata": {},
     "output_type": "execute_result"
    }
   ],
   "source": [
    "weather_df_mod"
   ]
  },
  {
   "cell_type": "code",
   "execution_count": 34,
   "id": "2c926f4e",
   "metadata": {},
   "outputs": [
    {
     "data": {
      "text/plain": [
       "Date    object\n",
       "Max     object\n",
       "Min     object\n",
       "Avg     object\n",
       "dtype: object"
      ]
     },
     "execution_count": 34,
     "metadata": {},
     "output_type": "execute_result"
    }
   ],
   "source": [
    "weather_df_mod.dtypes"
   ]
  },
  {
   "cell_type": "code",
   "execution_count": 35,
   "id": "adc88dc7",
   "metadata": {},
   "outputs": [],
   "source": [
    "weather_df_mod['Date'] = pd.to_datetime(weather_df_mod['Date'])"
   ]
  },
  {
   "cell_type": "code",
   "execution_count": 36,
   "id": "e6e5e67d",
   "metadata": {},
   "outputs": [
    {
     "data": {
      "text/html": [
       "<div>\n",
       "<style scoped>\n",
       "    .dataframe tbody tr th:only-of-type {\n",
       "        vertical-align: middle;\n",
       "    }\n",
       "\n",
       "    .dataframe tbody tr th {\n",
       "        vertical-align: top;\n",
       "    }\n",
       "\n",
       "    .dataframe thead th {\n",
       "        text-align: right;\n",
       "    }\n",
       "</style>\n",
       "<table border=\"1\" class=\"dataframe\">\n",
       "  <thead>\n",
       "    <tr style=\"text-align: right;\">\n",
       "      <th></th>\n",
       "      <th>Date</th>\n",
       "      <th>Max</th>\n",
       "      <th>Min</th>\n",
       "      <th>Avg</th>\n",
       "    </tr>\n",
       "  </thead>\n",
       "  <tbody>\n",
       "    <tr>\n",
       "      <th>0</th>\n",
       "      <td>2023-01-01</td>\n",
       "      <td>45</td>\n",
       "      <td>37</td>\n",
       "      <td>41</td>\n",
       "    </tr>\n",
       "    <tr>\n",
       "      <th>1</th>\n",
       "      <td>2023-01-02</td>\n",
       "      <td>43</td>\n",
       "      <td>32</td>\n",
       "      <td>37.5</td>\n",
       "    </tr>\n",
       "    <tr>\n",
       "      <th>2</th>\n",
       "      <td>2023-01-03</td>\n",
       "      <td>48</td>\n",
       "      <td>39</td>\n",
       "      <td>43.5</td>\n",
       "    </tr>\n",
       "    <tr>\n",
       "      <th>3</th>\n",
       "      <td>2023-01-04</td>\n",
       "      <td>44</td>\n",
       "      <td>33</td>\n",
       "      <td>38.5</td>\n",
       "    </tr>\n",
       "    <tr>\n",
       "      <th>4</th>\n",
       "      <td>2023-01-05</td>\n",
       "      <td>34</td>\n",
       "      <td>32</td>\n",
       "      <td>33</td>\n",
       "    </tr>\n",
       "    <tr>\n",
       "      <th>...</th>\n",
       "      <td>...</td>\n",
       "      <td>...</td>\n",
       "      <td>...</td>\n",
       "      <td>...</td>\n",
       "    </tr>\n",
       "    <tr>\n",
       "      <th>360</th>\n",
       "      <td>2023-12-27</td>\n",
       "      <td>42</td>\n",
       "      <td>30</td>\n",
       "      <td>36</td>\n",
       "    </tr>\n",
       "    <tr>\n",
       "      <th>361</th>\n",
       "      <td>2023-12-28</td>\n",
       "      <td>42</td>\n",
       "      <td>34</td>\n",
       "      <td>38</td>\n",
       "    </tr>\n",
       "    <tr>\n",
       "      <th>362</th>\n",
       "      <td>2023-12-29</td>\n",
       "      <td>40</td>\n",
       "      <td>31</td>\n",
       "      <td>35.5</td>\n",
       "    </tr>\n",
       "    <tr>\n",
       "      <th>363</th>\n",
       "      <td>2023-12-30</td>\n",
       "      <td>37</td>\n",
       "      <td>27</td>\n",
       "      <td>32</td>\n",
       "    </tr>\n",
       "    <tr>\n",
       "      <th>364</th>\n",
       "      <td>2023-12-31</td>\n",
       "      <td>36</td>\n",
       "      <td>31</td>\n",
       "      <td>33.5</td>\n",
       "    </tr>\n",
       "  </tbody>\n",
       "</table>\n",
       "<p>365 rows × 4 columns</p>\n",
       "</div>"
      ],
      "text/plain": [
       "          Date Max Min   Avg\n",
       "0   2023-01-01  45  37    41\n",
       "1   2023-01-02  43  32  37.5\n",
       "2   2023-01-03  48  39  43.5\n",
       "3   2023-01-04  44  33  38.5\n",
       "4   2023-01-05  34  32    33\n",
       "..         ...  ..  ..   ...\n",
       "360 2023-12-27  42  30    36\n",
       "361 2023-12-28  42  34    38\n",
       "362 2023-12-29  40  31  35.5\n",
       "363 2023-12-30  37  27    32\n",
       "364 2023-12-31  36  31  33.5\n",
       "\n",
       "[365 rows x 4 columns]"
      ]
     },
     "execution_count": 36,
     "metadata": {},
     "output_type": "execute_result"
    }
   ],
   "source": [
    "weather_df_mod"
   ]
  },
  {
   "cell_type": "code",
   "execution_count": 37,
   "id": "6840fd29",
   "metadata": {},
   "outputs": [
    {
     "data": {
      "text/plain": [
       "Date    datetime64[ns]\n",
       "Max             object\n",
       "Min             object\n",
       "Avg             object\n",
       "dtype: object"
      ]
     },
     "execution_count": 37,
     "metadata": {},
     "output_type": "execute_result"
    }
   ],
   "source": [
    "weather_df_mod.dtypes"
   ]
  },
  {
   "cell_type": "code",
   "execution_count": 38,
   "id": "47e841d9",
   "metadata": {},
   "outputs": [
    {
     "data": {
      "text/plain": [
       "ride_id                        object\n",
       "rideable_type                  object\n",
       "started_at             datetime64[ns]\n",
       "ended_at               datetime64[ns]\n",
       "start_station_name             object\n",
       "start_station_id               object\n",
       "end_station_name               object\n",
       "end_station_id                 object\n",
       "start_lat                     float64\n",
       "start_lng                     float64\n",
       "end_lat                       float64\n",
       "end_lng                       float64\n",
       "member_casual                  object\n",
       "started_at_day                 object\n",
       "started_at_month               object\n",
       "started_at_hour                 int64\n",
       "month                       period[M]\n",
       "ride_time             timedelta64[ns]\n",
       "ride_time_1            datetime64[ns]\n",
       "rides_in_minutes              float64\n",
       "start_date             datetime64[ns]\n",
       "dtype: object"
      ]
     },
     "execution_count": 38,
     "metadata": {},
     "output_type": "execute_result"
    }
   ],
   "source": [
    "df_filtered.dtypes"
   ]
  },
  {
   "cell_type": "code",
   "execution_count": 39,
   "id": "aeff72b3",
   "metadata": {},
   "outputs": [
    {
     "data": {
      "text/html": [
       "<div>\n",
       "<style scoped>\n",
       "    .dataframe tbody tr th:only-of-type {\n",
       "        vertical-align: middle;\n",
       "    }\n",
       "\n",
       "    .dataframe tbody tr th {\n",
       "        vertical-align: top;\n",
       "    }\n",
       "\n",
       "    .dataframe thead th {\n",
       "        text-align: right;\n",
       "    }\n",
       "</style>\n",
       "<table border=\"1\" class=\"dataframe\">\n",
       "  <thead>\n",
       "    <tr style=\"text-align: right;\">\n",
       "      <th></th>\n",
       "      <th>ride_id</th>\n",
       "      <th>rideable_type</th>\n",
       "      <th>started_at</th>\n",
       "      <th>ended_at</th>\n",
       "      <th>start_station_name</th>\n",
       "      <th>start_station_id</th>\n",
       "      <th>end_station_name</th>\n",
       "      <th>end_station_id</th>\n",
       "      <th>start_lat</th>\n",
       "      <th>start_lng</th>\n",
       "      <th>...</th>\n",
       "      <th>end_lng</th>\n",
       "      <th>member_casual</th>\n",
       "      <th>started_at_day</th>\n",
       "      <th>started_at_month</th>\n",
       "      <th>started_at_hour</th>\n",
       "      <th>month</th>\n",
       "      <th>ride_time</th>\n",
       "      <th>ride_time_1</th>\n",
       "      <th>rides_in_minutes</th>\n",
       "      <th>start_date</th>\n",
       "    </tr>\n",
       "  </thead>\n",
       "  <tbody>\n",
       "    <tr>\n",
       "      <th>0</th>\n",
       "      <td>53F0F248F28485D2</td>\n",
       "      <td>electric_bike</td>\n",
       "      <td>2023-01-01 00:01:58</td>\n",
       "      <td>2023-01-01 00:02:41</td>\n",
       "      <td>NaN</td>\n",
       "      <td>NaN</td>\n",
       "      <td>NaN</td>\n",
       "      <td>NaN</td>\n",
       "      <td>41.800000</td>\n",
       "      <td>-87.590000</td>\n",
       "      <td>...</td>\n",
       "      <td>-87.590000</td>\n",
       "      <td>casual</td>\n",
       "      <td>Sunday</td>\n",
       "      <td>January</td>\n",
       "      <td>0</td>\n",
       "      <td>2023-01</td>\n",
       "      <td>0 days 00:00:43</td>\n",
       "      <td>2023-01-01 00:01:58</td>\n",
       "      <td>1.0</td>\n",
       "      <td>2023-01-01</td>\n",
       "    </tr>\n",
       "    <tr>\n",
       "      <th>1</th>\n",
       "      <td>D8EEE72183269F07</td>\n",
       "      <td>classic_bike</td>\n",
       "      <td>2023-01-01 00:02:06</td>\n",
       "      <td>2023-01-01 00:29:46</td>\n",
       "      <td>Fairbanks Ct &amp; Grand Ave</td>\n",
       "      <td>TA1305000003</td>\n",
       "      <td>New St &amp; Illinois St</td>\n",
       "      <td>TA1306000013</td>\n",
       "      <td>41.891847</td>\n",
       "      <td>-87.620580</td>\n",
       "      <td>...</td>\n",
       "      <td>-87.618617</td>\n",
       "      <td>member</td>\n",
       "      <td>Sunday</td>\n",
       "      <td>January</td>\n",
       "      <td>0</td>\n",
       "      <td>2023-01</td>\n",
       "      <td>0 days 00:27:40</td>\n",
       "      <td>2023-01-01 00:02:06</td>\n",
       "      <td>28.0</td>\n",
       "      <td>2023-01-01</td>\n",
       "    </tr>\n",
       "    <tr>\n",
       "      <th>2</th>\n",
       "      <td>E5AD797A579842F8</td>\n",
       "      <td>electric_bike</td>\n",
       "      <td>2023-01-01 00:03:26</td>\n",
       "      <td>2023-01-01 00:07:23</td>\n",
       "      <td>Sheridan Rd &amp; Loyola Ave</td>\n",
       "      <td>RP-009</td>\n",
       "      <td>Sheridan Rd &amp; Loyola Ave</td>\n",
       "      <td>RP-009</td>\n",
       "      <td>42.001139</td>\n",
       "      <td>-87.661256</td>\n",
       "      <td>...</td>\n",
       "      <td>-87.661198</td>\n",
       "      <td>casual</td>\n",
       "      <td>Sunday</td>\n",
       "      <td>January</td>\n",
       "      <td>0</td>\n",
       "      <td>2023-01</td>\n",
       "      <td>0 days 00:03:57</td>\n",
       "      <td>2023-01-01 00:03:26</td>\n",
       "      <td>4.0</td>\n",
       "      <td>2023-01-01</td>\n",
       "    </tr>\n",
       "    <tr>\n",
       "      <th>3</th>\n",
       "      <td>8FBD2AD70B0F6A6F</td>\n",
       "      <td>classic_bike</td>\n",
       "      <td>2023-01-01 00:04:07</td>\n",
       "      <td>2023-01-01 00:13:56</td>\n",
       "      <td>Leavitt St &amp; Lawrence Ave</td>\n",
       "      <td>TA1309000015</td>\n",
       "      <td>Broadway &amp; Argyle St</td>\n",
       "      <td>13108</td>\n",
       "      <td>41.968885</td>\n",
       "      <td>-87.684001</td>\n",
       "      <td>...</td>\n",
       "      <td>-87.659660</td>\n",
       "      <td>casual</td>\n",
       "      <td>Sunday</td>\n",
       "      <td>January</td>\n",
       "      <td>0</td>\n",
       "      <td>2023-01</td>\n",
       "      <td>0 days 00:09:49</td>\n",
       "      <td>2023-01-01 00:04:07</td>\n",
       "      <td>10.0</td>\n",
       "      <td>2023-01-01</td>\n",
       "    </tr>\n",
       "    <tr>\n",
       "      <th>4</th>\n",
       "      <td>B05BD052B9EBB767</td>\n",
       "      <td>electric_bike</td>\n",
       "      <td>2023-01-01 00:04:27</td>\n",
       "      <td>2023-01-01 00:16:52</td>\n",
       "      <td>Clark St &amp; Montrose Ave</td>\n",
       "      <td>KA1503000022</td>\n",
       "      <td>Clark St &amp; Montrose Ave</td>\n",
       "      <td>KA1503000022</td>\n",
       "      <td>41.961545</td>\n",
       "      <td>-87.666189</td>\n",
       "      <td>...</td>\n",
       "      <td>-87.666036</td>\n",
       "      <td>member</td>\n",
       "      <td>Sunday</td>\n",
       "      <td>January</td>\n",
       "      <td>0</td>\n",
       "      <td>2023-01</td>\n",
       "      <td>0 days 00:12:25</td>\n",
       "      <td>2023-01-01 00:04:27</td>\n",
       "      <td>13.0</td>\n",
       "      <td>2023-01-01</td>\n",
       "    </tr>\n",
       "    <tr>\n",
       "      <th>...</th>\n",
       "      <td>...</td>\n",
       "      <td>...</td>\n",
       "      <td>...</td>\n",
       "      <td>...</td>\n",
       "      <td>...</td>\n",
       "      <td>...</td>\n",
       "      <td>...</td>\n",
       "      <td>...</td>\n",
       "      <td>...</td>\n",
       "      <td>...</td>\n",
       "      <td>...</td>\n",
       "      <td>...</td>\n",
       "      <td>...</td>\n",
       "      <td>...</td>\n",
       "      <td>...</td>\n",
       "      <td>...</td>\n",
       "      <td>...</td>\n",
       "      <td>...</td>\n",
       "      <td>...</td>\n",
       "      <td>...</td>\n",
       "      <td>...</td>\n",
       "    </tr>\n",
       "    <tr>\n",
       "      <th>5719600</th>\n",
       "      <td>6FB217B8B8152D9B</td>\n",
       "      <td>electric_bike</td>\n",
       "      <td>2023-12-31 23:55:28</td>\n",
       "      <td>2024-01-01 00:24:15</td>\n",
       "      <td>McClurg Ct &amp; Ohio St</td>\n",
       "      <td>TA1306000029</td>\n",
       "      <td>Fairbanks Ct &amp; Grand Ave</td>\n",
       "      <td>TA1305000003</td>\n",
       "      <td>41.892036</td>\n",
       "      <td>-87.616815</td>\n",
       "      <td>...</td>\n",
       "      <td>-87.620580</td>\n",
       "      <td>member</td>\n",
       "      <td>Sunday</td>\n",
       "      <td>December</td>\n",
       "      <td>23</td>\n",
       "      <td>2023-12</td>\n",
       "      <td>0 days 00:28:47</td>\n",
       "      <td>2023-12-31 23:55:28</td>\n",
       "      <td>29.0</td>\n",
       "      <td>2023-12-31</td>\n",
       "    </tr>\n",
       "    <tr>\n",
       "      <th>5719601</th>\n",
       "      <td>8AD57B777CDD8F65</td>\n",
       "      <td>electric_bike</td>\n",
       "      <td>2023-12-31 23:56:28</td>\n",
       "      <td>2024-01-01 00:00:43</td>\n",
       "      <td>Michigan Ave &amp; Lake St</td>\n",
       "      <td>TA1305000011</td>\n",
       "      <td>NaN</td>\n",
       "      <td>NaN</td>\n",
       "      <td>41.886146</td>\n",
       "      <td>-87.624730</td>\n",
       "      <td>...</td>\n",
       "      <td>-87.620000</td>\n",
       "      <td>casual</td>\n",
       "      <td>Sunday</td>\n",
       "      <td>December</td>\n",
       "      <td>23</td>\n",
       "      <td>2023-12</td>\n",
       "      <td>0 days 00:04:15</td>\n",
       "      <td>2023-12-31 23:56:28</td>\n",
       "      <td>5.0</td>\n",
       "      <td>2023-12-31</td>\n",
       "    </tr>\n",
       "    <tr>\n",
       "      <th>5719602</th>\n",
       "      <td>0E2173686F7778E5</td>\n",
       "      <td>electric_bike</td>\n",
       "      <td>2023-12-31 23:57:01</td>\n",
       "      <td>2023-12-31 23:59:26</td>\n",
       "      <td>Michigan Ave &amp; Lake St</td>\n",
       "      <td>TA1305000011</td>\n",
       "      <td>NaN</td>\n",
       "      <td>NaN</td>\n",
       "      <td>41.886145</td>\n",
       "      <td>-87.624771</td>\n",
       "      <td>...</td>\n",
       "      <td>-87.620000</td>\n",
       "      <td>member</td>\n",
       "      <td>Sunday</td>\n",
       "      <td>December</td>\n",
       "      <td>23</td>\n",
       "      <td>2023-12</td>\n",
       "      <td>0 days 00:02:25</td>\n",
       "      <td>2023-12-31 23:57:01</td>\n",
       "      <td>3.0</td>\n",
       "      <td>2023-12-31</td>\n",
       "    </tr>\n",
       "    <tr>\n",
       "      <th>5719603</th>\n",
       "      <td>E3ADFD6C7743E816</td>\n",
       "      <td>electric_bike</td>\n",
       "      <td>2023-12-31 23:58:55</td>\n",
       "      <td>2024-01-01 00:06:08</td>\n",
       "      <td>Wolcott (Ravenswood) Ave &amp; Montrose Ave</td>\n",
       "      <td>TA1307000144</td>\n",
       "      <td>Sheridan Rd &amp; Montrose Ave</td>\n",
       "      <td>TA1307000107</td>\n",
       "      <td>41.961456</td>\n",
       "      <td>-87.676323</td>\n",
       "      <td>...</td>\n",
       "      <td>-87.654640</td>\n",
       "      <td>casual</td>\n",
       "      <td>Sunday</td>\n",
       "      <td>December</td>\n",
       "      <td>23</td>\n",
       "      <td>2023-12</td>\n",
       "      <td>0 days 00:07:13</td>\n",
       "      <td>2023-12-31 23:58:55</td>\n",
       "      <td>8.0</td>\n",
       "      <td>2023-12-31</td>\n",
       "    </tr>\n",
       "    <tr>\n",
       "      <th>5719604</th>\n",
       "      <td>BBD15A044CC0CFCB</td>\n",
       "      <td>electric_bike</td>\n",
       "      <td>2023-12-31 23:59:38</td>\n",
       "      <td>2024-01-01 00:00:16</td>\n",
       "      <td>NaN</td>\n",
       "      <td>NaN</td>\n",
       "      <td>NaN</td>\n",
       "      <td>NaN</td>\n",
       "      <td>41.890000</td>\n",
       "      <td>-87.620000</td>\n",
       "      <td>...</td>\n",
       "      <td>-87.620000</td>\n",
       "      <td>member</td>\n",
       "      <td>Sunday</td>\n",
       "      <td>December</td>\n",
       "      <td>23</td>\n",
       "      <td>2023-12</td>\n",
       "      <td>0 days 00:00:38</td>\n",
       "      <td>2023-12-31 23:59:38</td>\n",
       "      <td>1.0</td>\n",
       "      <td>2023-12-31</td>\n",
       "    </tr>\n",
       "  </tbody>\n",
       "</table>\n",
       "<p>5719605 rows × 21 columns</p>\n",
       "</div>"
      ],
      "text/plain": [
       "                  ride_id  rideable_type          started_at  \\\n",
       "0        53F0F248F28485D2  electric_bike 2023-01-01 00:01:58   \n",
       "1        D8EEE72183269F07   classic_bike 2023-01-01 00:02:06   \n",
       "2        E5AD797A579842F8  electric_bike 2023-01-01 00:03:26   \n",
       "3        8FBD2AD70B0F6A6F   classic_bike 2023-01-01 00:04:07   \n",
       "4        B05BD052B9EBB767  electric_bike 2023-01-01 00:04:27   \n",
       "...                   ...            ...                 ...   \n",
       "5719600  6FB217B8B8152D9B  electric_bike 2023-12-31 23:55:28   \n",
       "5719601  8AD57B777CDD8F65  electric_bike 2023-12-31 23:56:28   \n",
       "5719602  0E2173686F7778E5  electric_bike 2023-12-31 23:57:01   \n",
       "5719603  E3ADFD6C7743E816  electric_bike 2023-12-31 23:58:55   \n",
       "5719604  BBD15A044CC0CFCB  electric_bike 2023-12-31 23:59:38   \n",
       "\n",
       "                   ended_at                       start_station_name  \\\n",
       "0       2023-01-01 00:02:41                                      NaN   \n",
       "1       2023-01-01 00:29:46                 Fairbanks Ct & Grand Ave   \n",
       "2       2023-01-01 00:07:23                 Sheridan Rd & Loyola Ave   \n",
       "3       2023-01-01 00:13:56                Leavitt St & Lawrence Ave   \n",
       "4       2023-01-01 00:16:52                  Clark St & Montrose Ave   \n",
       "...                     ...                                      ...   \n",
       "5719600 2024-01-01 00:24:15                     McClurg Ct & Ohio St   \n",
       "5719601 2024-01-01 00:00:43                   Michigan Ave & Lake St   \n",
       "5719602 2023-12-31 23:59:26                   Michigan Ave & Lake St   \n",
       "5719603 2024-01-01 00:06:08  Wolcott (Ravenswood) Ave & Montrose Ave   \n",
       "5719604 2024-01-01 00:00:16                                      NaN   \n",
       "\n",
       "        start_station_id            end_station_name end_station_id  \\\n",
       "0                    NaN                         NaN            NaN   \n",
       "1           TA1305000003        New St & Illinois St   TA1306000013   \n",
       "2                 RP-009    Sheridan Rd & Loyola Ave         RP-009   \n",
       "3           TA1309000015        Broadway & Argyle St          13108   \n",
       "4           KA1503000022     Clark St & Montrose Ave   KA1503000022   \n",
       "...                  ...                         ...            ...   \n",
       "5719600     TA1306000029    Fairbanks Ct & Grand Ave   TA1305000003   \n",
       "5719601     TA1305000011                         NaN            NaN   \n",
       "5719602     TA1305000011                         NaN            NaN   \n",
       "5719603     TA1307000144  Sheridan Rd & Montrose Ave   TA1307000107   \n",
       "5719604              NaN                         NaN            NaN   \n",
       "\n",
       "         start_lat  start_lng  ...    end_lng  member_casual started_at_day  \\\n",
       "0        41.800000 -87.590000  ... -87.590000         casual         Sunday   \n",
       "1        41.891847 -87.620580  ... -87.618617         member         Sunday   \n",
       "2        42.001139 -87.661256  ... -87.661198         casual         Sunday   \n",
       "3        41.968885 -87.684001  ... -87.659660         casual         Sunday   \n",
       "4        41.961545 -87.666189  ... -87.666036         member         Sunday   \n",
       "...            ...        ...  ...        ...            ...            ...   \n",
       "5719600  41.892036 -87.616815  ... -87.620580         member         Sunday   \n",
       "5719601  41.886146 -87.624730  ... -87.620000         casual         Sunday   \n",
       "5719602  41.886145 -87.624771  ... -87.620000         member         Sunday   \n",
       "5719603  41.961456 -87.676323  ... -87.654640         casual         Sunday   \n",
       "5719604  41.890000 -87.620000  ... -87.620000         member         Sunday   \n",
       "\n",
       "        started_at_month started_at_hour    month       ride_time  \\\n",
       "0                January               0  2023-01 0 days 00:00:43   \n",
       "1                January               0  2023-01 0 days 00:27:40   \n",
       "2                January               0  2023-01 0 days 00:03:57   \n",
       "3                January               0  2023-01 0 days 00:09:49   \n",
       "4                January               0  2023-01 0 days 00:12:25   \n",
       "...                  ...             ...      ...             ...   \n",
       "5719600         December              23  2023-12 0 days 00:28:47   \n",
       "5719601         December              23  2023-12 0 days 00:04:15   \n",
       "5719602         December              23  2023-12 0 days 00:02:25   \n",
       "5719603         December              23  2023-12 0 days 00:07:13   \n",
       "5719604         December              23  2023-12 0 days 00:00:38   \n",
       "\n",
       "                ride_time_1 rides_in_minutes  start_date  \n",
       "0       2023-01-01 00:01:58              1.0  2023-01-01  \n",
       "1       2023-01-01 00:02:06             28.0  2023-01-01  \n",
       "2       2023-01-01 00:03:26              4.0  2023-01-01  \n",
       "3       2023-01-01 00:04:07             10.0  2023-01-01  \n",
       "4       2023-01-01 00:04:27             13.0  2023-01-01  \n",
       "...                     ...              ...         ...  \n",
       "5719600 2023-12-31 23:55:28             29.0  2023-12-31  \n",
       "5719601 2023-12-31 23:56:28              5.0  2023-12-31  \n",
       "5719602 2023-12-31 23:57:01              3.0  2023-12-31  \n",
       "5719603 2023-12-31 23:58:55              8.0  2023-12-31  \n",
       "5719604 2023-12-31 23:59:38              1.0  2023-12-31  \n",
       "\n",
       "[5719605 rows x 21 columns]"
      ]
     },
     "execution_count": 39,
     "metadata": {},
     "output_type": "execute_result"
    }
   ],
   "source": [
    "df_filtered"
   ]
  },
  {
   "cell_type": "code",
   "execution_count": 27,
   "id": "614a7b93",
   "metadata": {},
   "outputs": [
    {
     "name": "stderr",
     "output_type": "stream",
     "text": [
      "C:\\Users\\ramya\\AppData\\Local\\Temp\\ipykernel_7232\\2770191340.py:1: SettingWithCopyWarning: \n",
      "A value is trying to be set on a copy of a slice from a DataFrame.\n",
      "Try using .loc[row_indexer,col_indexer] = value instead\n",
      "\n",
      "See the caveats in the documentation: https://pandas.pydata.org/pandas-docs/stable/user_guide/indexing.html#returning-a-view-versus-a-copy\n",
      "  df_filtered['start_date'] = pd.to_datetime(df_filtered['started_at']).dt.date\n"
     ]
    }
   ],
   "source": [
    "df_filtered['start_date'] = pd.to_datetime(df_filtered['started_at']).dt.date"
   ]
  },
  {
   "cell_type": "code",
   "execution_count": null,
   "id": "5906b151",
   "metadata": {},
   "outputs": [],
   "source": [
    "df_filtered"
   ]
  },
  {
   "cell_type": "code",
   "execution_count": 28,
   "id": "27ef97d7",
   "metadata": {},
   "outputs": [
    {
     "name": "stderr",
     "output_type": "stream",
     "text": [
      "C:\\Users\\ramya\\AppData\\Local\\Temp\\ipykernel_7232\\1770371725.py:1: SettingWithCopyWarning: \n",
      "A value is trying to be set on a copy of a slice from a DataFrame.\n",
      "Try using .loc[row_indexer,col_indexer] = value instead\n",
      "\n",
      "See the caveats in the documentation: https://pandas.pydata.org/pandas-docs/stable/user_guide/indexing.html#returning-a-view-versus-a-copy\n",
      "  df_filtered['start_date'] = pd.to_datetime(df_filtered['start_date'])\n"
     ]
    }
   ],
   "source": [
    "df_filtered['start_date'] = pd.to_datetime(df_filtered['start_date'])"
   ]
  },
  {
   "cell_type": "code",
   "execution_count": null,
   "id": "fd75e796",
   "metadata": {},
   "outputs": [],
   "source": [
    "df_filtered.dtypes"
   ]
  },
  {
   "cell_type": "code",
   "execution_count": 40,
   "id": "f42c1015",
   "metadata": {
    "scrolled": true
   },
   "outputs": [],
   "source": [
    "final_df = df_filtered.merge(weather_df_mod, left_on = \"start_date\", right_on = \"Date\", how = \"inner\")"
   ]
  },
  {
   "cell_type": "code",
   "execution_count": 45,
   "id": "117b8a63",
   "metadata": {},
   "outputs": [
    {
     "data": {
      "text/plain": [
       "ride_id                        object\n",
       "rideable_type                  object\n",
       "started_at             datetime64[ns]\n",
       "ended_at               datetime64[ns]\n",
       "start_station_name             object\n",
       "start_station_id               object\n",
       "end_station_name               object\n",
       "end_station_id                 object\n",
       "start_lat                     float64\n",
       "start_lng                     float64\n",
       "end_lat                       float64\n",
       "end_lng                       float64\n",
       "member_casual                  object\n",
       "started_at_day                 object\n",
       "started_at_month               object\n",
       "started_at_hour                 int64\n",
       "month                       period[M]\n",
       "ride_time             timedelta64[ns]\n",
       "ride_time_1            datetime64[ns]\n",
       "rides_in_minutes              float64\n",
       "start_date             datetime64[ns]\n",
       "Date                   datetime64[ns]\n",
       "Max                            object\n",
       "Min                            object\n",
       "Avg                            object\n",
       "dtype: object"
      ]
     },
     "execution_count": 45,
     "metadata": {},
     "output_type": "execute_result"
    }
   ],
   "source": [
    "final_df.dtypes"
   ]
  },
  {
   "cell_type": "code",
   "execution_count": 41,
   "id": "c867fa82",
   "metadata": {},
   "outputs": [
    {
     "data": {
      "text/html": [
       "<div>\n",
       "<style scoped>\n",
       "    .dataframe tbody tr th:only-of-type {\n",
       "        vertical-align: middle;\n",
       "    }\n",
       "\n",
       "    .dataframe tbody tr th {\n",
       "        vertical-align: top;\n",
       "    }\n",
       "\n",
       "    .dataframe thead th {\n",
       "        text-align: right;\n",
       "    }\n",
       "</style>\n",
       "<table border=\"1\" class=\"dataframe\">\n",
       "  <thead>\n",
       "    <tr style=\"text-align: right;\">\n",
       "      <th></th>\n",
       "      <th>start_lat</th>\n",
       "      <th>start_lng</th>\n",
       "      <th>end_lat</th>\n",
       "      <th>end_lng</th>\n",
       "      <th>started_at_hour</th>\n",
       "      <th>ride_time</th>\n",
       "      <th>rides_in_minutes</th>\n",
       "    </tr>\n",
       "  </thead>\n",
       "  <tbody>\n",
       "    <tr>\n",
       "      <th>count</th>\n",
       "      <td>5.719605e+06</td>\n",
       "      <td>5.719605e+06</td>\n",
       "      <td>5.712615e+06</td>\n",
       "      <td>5.712615e+06</td>\n",
       "      <td>5.719605e+06</td>\n",
       "      <td>5719605</td>\n",
       "      <td>5.719605e+06</td>\n",
       "    </tr>\n",
       "    <tr>\n",
       "      <th>mean</th>\n",
       "      <td>4.190289e+01</td>\n",
       "      <td>-8.764704e+01</td>\n",
       "      <td>4.190322e+01</td>\n",
       "      <td>-8.764720e+01</td>\n",
       "      <td>1.409410e+01</td>\n",
       "      <td>0 days 00:18:11.149510499</td>\n",
       "      <td>1.868491e+01</td>\n",
       "    </tr>\n",
       "    <tr>\n",
       "      <th>std</th>\n",
       "      <td>4.505514e-02</td>\n",
       "      <td>2.733408e-02</td>\n",
       "      <td>5.444373e-02</td>\n",
       "      <td>6.919759e-02</td>\n",
       "      <td>4.941622e+00</td>\n",
       "      <td>0 days 03:00:12.826995364</td>\n",
       "      <td>1.802114e+02</td>\n",
       "    </tr>\n",
       "    <tr>\n",
       "      <th>min</th>\n",
       "      <td>4.163000e+01</td>\n",
       "      <td>-8.794000e+01</td>\n",
       "      <td>0.000000e+00</td>\n",
       "      <td>-8.816000e+01</td>\n",
       "      <td>0.000000e+00</td>\n",
       "      <td>0 days 00:00:00</td>\n",
       "      <td>0.000000e+00</td>\n",
       "    </tr>\n",
       "    <tr>\n",
       "      <th>25%</th>\n",
       "      <td>4.188096e+01</td>\n",
       "      <td>-8.766000e+01</td>\n",
       "      <td>4.188103e+01</td>\n",
       "      <td>-8.766027e+01</td>\n",
       "      <td>1.100000e+01</td>\n",
       "      <td>0 days 00:05:25</td>\n",
       "      <td>6.000000e+00</td>\n",
       "    </tr>\n",
       "    <tr>\n",
       "      <th>50%</th>\n",
       "      <td>4.189902e+01</td>\n",
       "      <td>-8.764403e+01</td>\n",
       "      <td>4.190000e+01</td>\n",
       "      <td>-8.764410e+01</td>\n",
       "      <td>1.500000e+01</td>\n",
       "      <td>0 days 00:09:32</td>\n",
       "      <td>1.000000e+01</td>\n",
       "    </tr>\n",
       "    <tr>\n",
       "      <th>75%</th>\n",
       "      <td>4.193000e+01</td>\n",
       "      <td>-8.762991e+01</td>\n",
       "      <td>4.193000e+01</td>\n",
       "      <td>-8.763000e+01</td>\n",
       "      <td>1.800000e+01</td>\n",
       "      <td>0 days 00:16:55</td>\n",
       "      <td>1.700000e+01</td>\n",
       "    </tr>\n",
       "    <tr>\n",
       "      <th>max</th>\n",
       "      <td>4.207000e+01</td>\n",
       "      <td>-8.746000e+01</td>\n",
       "      <td>4.218000e+01</td>\n",
       "      <td>0.000000e+00</td>\n",
       "      <td>2.300000e+01</td>\n",
       "      <td>68 days 09:29:04</td>\n",
       "      <td>9.849000e+04</td>\n",
       "    </tr>\n",
       "  </tbody>\n",
       "</table>\n",
       "</div>"
      ],
      "text/plain": [
       "          start_lat     start_lng       end_lat       end_lng  \\\n",
       "count  5.719605e+06  5.719605e+06  5.712615e+06  5.712615e+06   \n",
       "mean   4.190289e+01 -8.764704e+01  4.190322e+01 -8.764720e+01   \n",
       "std    4.505514e-02  2.733408e-02  5.444373e-02  6.919759e-02   \n",
       "min    4.163000e+01 -8.794000e+01  0.000000e+00 -8.816000e+01   \n",
       "25%    4.188096e+01 -8.766000e+01  4.188103e+01 -8.766027e+01   \n",
       "50%    4.189902e+01 -8.764403e+01  4.190000e+01 -8.764410e+01   \n",
       "75%    4.193000e+01 -8.762991e+01  4.193000e+01 -8.763000e+01   \n",
       "max    4.207000e+01 -8.746000e+01  4.218000e+01  0.000000e+00   \n",
       "\n",
       "       started_at_hour                  ride_time  rides_in_minutes  \n",
       "count     5.719605e+06                    5719605      5.719605e+06  \n",
       "mean      1.409410e+01  0 days 00:18:11.149510499      1.868491e+01  \n",
       "std       4.941622e+00  0 days 03:00:12.826995364      1.802114e+02  \n",
       "min       0.000000e+00            0 days 00:00:00      0.000000e+00  \n",
       "25%       1.100000e+01            0 days 00:05:25      6.000000e+00  \n",
       "50%       1.500000e+01            0 days 00:09:32      1.000000e+01  \n",
       "75%       1.800000e+01            0 days 00:16:55      1.700000e+01  \n",
       "max       2.300000e+01           68 days 09:29:04      9.849000e+04  "
      ]
     },
     "execution_count": 41,
     "metadata": {},
     "output_type": "execute_result"
    }
   ],
   "source": [
    "final_df.describe()"
   ]
  },
  {
   "cell_type": "code",
   "execution_count": 43,
   "id": "6ca179b0",
   "metadata": {},
   "outputs": [],
   "source": [
    "final_df_cas = final_df[final_df['member_casual'] == 'casual']"
   ]
  },
  {
   "cell_type": "code",
   "execution_count": 44,
   "id": "85836321",
   "metadata": {},
   "outputs": [
    {
     "data": {
      "text/html": [
       "<div>\n",
       "<style scoped>\n",
       "    .dataframe tbody tr th:only-of-type {\n",
       "        vertical-align: middle;\n",
       "    }\n",
       "\n",
       "    .dataframe tbody tr th {\n",
       "        vertical-align: top;\n",
       "    }\n",
       "\n",
       "    .dataframe thead th {\n",
       "        text-align: right;\n",
       "    }\n",
       "</style>\n",
       "<table border=\"1\" class=\"dataframe\">\n",
       "  <thead>\n",
       "    <tr style=\"text-align: right;\">\n",
       "      <th></th>\n",
       "      <th>start_lat</th>\n",
       "      <th>start_lng</th>\n",
       "      <th>end_lat</th>\n",
       "      <th>end_lng</th>\n",
       "      <th>started_at_hour</th>\n",
       "      <th>ride_time</th>\n",
       "      <th>rides_in_minutes</th>\n",
       "    </tr>\n",
       "  </thead>\n",
       "  <tbody>\n",
       "    <tr>\n",
       "      <th>count</th>\n",
       "      <td>2.059037e+06</td>\n",
       "      <td>2.059037e+06</td>\n",
       "      <td>2.053165e+06</td>\n",
       "      <td>2.053165e+06</td>\n",
       "      <td>2.059037e+06</td>\n",
       "      <td>2059037</td>\n",
       "      <td>2.059037e+06</td>\n",
       "    </tr>\n",
       "    <tr>\n",
       "      <th>mean</th>\n",
       "      <td>4.190418e+01</td>\n",
       "      <td>-8.764631e+01</td>\n",
       "      <td>4.190466e+01</td>\n",
       "      <td>-8.764656e+01</td>\n",
       "      <td>1.439684e+01</td>\n",
       "      <td>0 days 00:28:14.895033454</td>\n",
       "      <td>2.874630e+01</td>\n",
       "    </tr>\n",
       "    <tr>\n",
       "      <th>std</th>\n",
       "      <td>4.562758e-02</td>\n",
       "      <td>2.962338e-02</td>\n",
       "      <td>6.164070e-02</td>\n",
       "      <td>9.150816e-02</td>\n",
       "      <td>4.999001e+00</td>\n",
       "      <td>0 days 04:56:41.229205084</td>\n",
       "      <td>2.966843e+02</td>\n",
       "    </tr>\n",
       "    <tr>\n",
       "      <th>min</th>\n",
       "      <td>4.164000e+01</td>\n",
       "      <td>-8.792000e+01</td>\n",
       "      <td>0.000000e+00</td>\n",
       "      <td>-8.816000e+01</td>\n",
       "      <td>0.000000e+00</td>\n",
       "      <td>0 days 00:00:00</td>\n",
       "      <td>0.000000e+00</td>\n",
       "    </tr>\n",
       "    <tr>\n",
       "      <th>25%</th>\n",
       "      <td>4.188137e+01</td>\n",
       "      <td>-8.766000e+01</td>\n",
       "      <td>4.188213e+01</td>\n",
       "      <td>-8.766000e+01</td>\n",
       "      <td>1.100000e+01</td>\n",
       "      <td>0 days 00:06:37</td>\n",
       "      <td>7.000000e+00</td>\n",
       "    </tr>\n",
       "    <tr>\n",
       "      <th>50%</th>\n",
       "      <td>4.190000e+01</td>\n",
       "      <td>-8.764117e+01</td>\n",
       "      <td>4.190096e+01</td>\n",
       "      <td>-8.764119e+01</td>\n",
       "      <td>1.500000e+01</td>\n",
       "      <td>0 days 00:11:51</td>\n",
       "      <td>1.200000e+01</td>\n",
       "    </tr>\n",
       "    <tr>\n",
       "      <th>75%</th>\n",
       "      <td>4.193125e+01</td>\n",
       "      <td>-8.762676e+01</td>\n",
       "      <td>4.193132e+01</td>\n",
       "      <td>-8.762680e+01</td>\n",
       "      <td>1.800000e+01</td>\n",
       "      <td>0 days 00:22:10</td>\n",
       "      <td>2.300000e+01</td>\n",
       "    </tr>\n",
       "    <tr>\n",
       "      <th>max</th>\n",
       "      <td>4.207000e+01</td>\n",
       "      <td>-8.752000e+01</td>\n",
       "      <td>4.218000e+01</td>\n",
       "      <td>0.000000e+00</td>\n",
       "      <td>2.300000e+01</td>\n",
       "      <td>68 days 09:29:04</td>\n",
       "      <td>9.849000e+04</td>\n",
       "    </tr>\n",
       "  </tbody>\n",
       "</table>\n",
       "</div>"
      ],
      "text/plain": [
       "          start_lat     start_lng       end_lat       end_lng  \\\n",
       "count  2.059037e+06  2.059037e+06  2.053165e+06  2.053165e+06   \n",
       "mean   4.190418e+01 -8.764631e+01  4.190466e+01 -8.764656e+01   \n",
       "std    4.562758e-02  2.962338e-02  6.164070e-02  9.150816e-02   \n",
       "min    4.164000e+01 -8.792000e+01  0.000000e+00 -8.816000e+01   \n",
       "25%    4.188137e+01 -8.766000e+01  4.188213e+01 -8.766000e+01   \n",
       "50%    4.190000e+01 -8.764117e+01  4.190096e+01 -8.764119e+01   \n",
       "75%    4.193125e+01 -8.762676e+01  4.193132e+01 -8.762680e+01   \n",
       "max    4.207000e+01 -8.752000e+01  4.218000e+01  0.000000e+00   \n",
       "\n",
       "       started_at_hour                  ride_time  rides_in_minutes  \n",
       "count     2.059037e+06                    2059037      2.059037e+06  \n",
       "mean      1.439684e+01  0 days 00:28:14.895033454      2.874630e+01  \n",
       "std       4.999001e+00  0 days 04:56:41.229205084      2.966843e+02  \n",
       "min       0.000000e+00            0 days 00:00:00      0.000000e+00  \n",
       "25%       1.100000e+01            0 days 00:06:37      7.000000e+00  \n",
       "50%       1.500000e+01            0 days 00:11:51      1.200000e+01  \n",
       "75%       1.800000e+01            0 days 00:22:10      2.300000e+01  \n",
       "max       2.300000e+01           68 days 09:29:04      9.849000e+04  "
      ]
     },
     "execution_count": 44,
     "metadata": {},
     "output_type": "execute_result"
    }
   ],
   "source": [
    "final_df_cas.describe()"
   ]
  },
  {
   "cell_type": "code",
   "execution_count": 53,
   "id": "a96ebbc3",
   "metadata": {},
   "outputs": [
    {
     "data": {
      "text/html": [
       "<div>\n",
       "<style scoped>\n",
       "    .dataframe tbody tr th:only-of-type {\n",
       "        vertical-align: middle;\n",
       "    }\n",
       "\n",
       "    .dataframe tbody tr th {\n",
       "        vertical-align: top;\n",
       "    }\n",
       "\n",
       "    .dataframe thead th {\n",
       "        text-align: right;\n",
       "    }\n",
       "</style>\n",
       "<table border=\"1\" class=\"dataframe\">\n",
       "  <thead>\n",
       "    <tr style=\"text-align: right;\">\n",
       "      <th></th>\n",
       "      <th>ride_id</th>\n",
       "      <th>rideable_type</th>\n",
       "      <th>started_at</th>\n",
       "      <th>ended_at</th>\n",
       "      <th>start_station_name</th>\n",
       "      <th>start_station_id</th>\n",
       "      <th>end_station_name</th>\n",
       "      <th>end_station_id</th>\n",
       "      <th>start_lat</th>\n",
       "      <th>start_lng</th>\n",
       "      <th>...</th>\n",
       "      <th>started_at_hour</th>\n",
       "      <th>month</th>\n",
       "      <th>ride_time</th>\n",
       "      <th>ride_time_1</th>\n",
       "      <th>rides_in_minutes</th>\n",
       "      <th>start_date</th>\n",
       "      <th>Date</th>\n",
       "      <th>Max</th>\n",
       "      <th>Min</th>\n",
       "      <th>Avg</th>\n",
       "    </tr>\n",
       "  </thead>\n",
       "  <tbody>\n",
       "    <tr>\n",
       "      <th>14</th>\n",
       "      <td>B862A548BC1B6470</td>\n",
       "      <td>electric_bike</td>\n",
       "      <td>2023-01-01 00:11:00</td>\n",
       "      <td>2023-01-01 00:42:27</td>\n",
       "      <td>North Ave &amp; New England Ave</td>\n",
       "      <td>310</td>\n",
       "      <td>NaN</td>\n",
       "      <td>NaN</td>\n",
       "      <td>41.910000</td>\n",
       "      <td>-87.800000</td>\n",
       "      <td>...</td>\n",
       "      <td>0</td>\n",
       "      <td>2023-01</td>\n",
       "      <td>0 days 00:31:27</td>\n",
       "      <td>2023-01-01 00:11:00</td>\n",
       "      <td>32.0</td>\n",
       "      <td>2023-01-01</td>\n",
       "      <td>2023-01-01</td>\n",
       "      <td>45</td>\n",
       "      <td>37</td>\n",
       "      <td>41</td>\n",
       "    </tr>\n",
       "    <tr>\n",
       "      <th>56</th>\n",
       "      <td>454214BA380A6E60</td>\n",
       "      <td>docked_bike</td>\n",
       "      <td>2023-01-01 00:23:36</td>\n",
       "      <td>2023-01-11 06:36:39</td>\n",
       "      <td>LaSalle St &amp; Washington St</td>\n",
       "      <td>13006</td>\n",
       "      <td>NaN</td>\n",
       "      <td>NaN</td>\n",
       "      <td>41.882664</td>\n",
       "      <td>-87.632530</td>\n",
       "      <td>...</td>\n",
       "      <td>0</td>\n",
       "      <td>2023-01</td>\n",
       "      <td>10 days 06:13:03</td>\n",
       "      <td>2023-01-01 00:23:36</td>\n",
       "      <td>14774.0</td>\n",
       "      <td>2023-01-01</td>\n",
       "      <td>2023-01-01</td>\n",
       "      <td>45</td>\n",
       "      <td>37</td>\n",
       "      <td>41</td>\n",
       "    </tr>\n",
       "    <tr>\n",
       "      <th>58</th>\n",
       "      <td>50CFE5A0618D9F86</td>\n",
       "      <td>electric_bike</td>\n",
       "      <td>2023-01-01 00:23:49</td>\n",
       "      <td>2023-01-01 00:55:02</td>\n",
       "      <td>Streeter Dr &amp; Grand Ave</td>\n",
       "      <td>13022</td>\n",
       "      <td>Canal St &amp; Madison St</td>\n",
       "      <td>13341</td>\n",
       "      <td>41.892181</td>\n",
       "      <td>-87.611778</td>\n",
       "      <td>...</td>\n",
       "      <td>0</td>\n",
       "      <td>2023-01</td>\n",
       "      <td>0 days 00:31:13</td>\n",
       "      <td>2023-01-01 00:23:49</td>\n",
       "      <td>32.0</td>\n",
       "      <td>2023-01-01</td>\n",
       "      <td>2023-01-01</td>\n",
       "      <td>45</td>\n",
       "      <td>37</td>\n",
       "      <td>41</td>\n",
       "    </tr>\n",
       "    <tr>\n",
       "      <th>59</th>\n",
       "      <td>8DA2A86022766D7C</td>\n",
       "      <td>electric_bike</td>\n",
       "      <td>2023-01-01 00:23:53</td>\n",
       "      <td>2023-01-01 01:10:01</td>\n",
       "      <td>Streeter Dr &amp; Grand Ave</td>\n",
       "      <td>13022</td>\n",
       "      <td>Shore Dr &amp; 55th St</td>\n",
       "      <td>TA1308000009</td>\n",
       "      <td>41.892253</td>\n",
       "      <td>-87.611930</td>\n",
       "      <td>...</td>\n",
       "      <td>0</td>\n",
       "      <td>2023-01</td>\n",
       "      <td>0 days 00:46:08</td>\n",
       "      <td>2023-01-01 00:23:53</td>\n",
       "      <td>47.0</td>\n",
       "      <td>2023-01-01</td>\n",
       "      <td>2023-01-01</td>\n",
       "      <td>45</td>\n",
       "      <td>37</td>\n",
       "      <td>41</td>\n",
       "    </tr>\n",
       "    <tr>\n",
       "      <th>61</th>\n",
       "      <td>98F7647A5AD484DC</td>\n",
       "      <td>docked_bike</td>\n",
       "      <td>2023-01-01 00:24:09</td>\n",
       "      <td>2023-01-11 06:36:36</td>\n",
       "      <td>LaSalle St &amp; Washington St</td>\n",
       "      <td>13006</td>\n",
       "      <td>NaN</td>\n",
       "      <td>NaN</td>\n",
       "      <td>41.882664</td>\n",
       "      <td>-87.632530</td>\n",
       "      <td>...</td>\n",
       "      <td>0</td>\n",
       "      <td>2023-01</td>\n",
       "      <td>10 days 06:12:27</td>\n",
       "      <td>2023-01-01 00:24:09</td>\n",
       "      <td>14773.0</td>\n",
       "      <td>2023-01-01</td>\n",
       "      <td>2023-01-01</td>\n",
       "      <td>45</td>\n",
       "      <td>37</td>\n",
       "      <td>41</td>\n",
       "    </tr>\n",
       "    <tr>\n",
       "      <th>...</th>\n",
       "      <td>...</td>\n",
       "      <td>...</td>\n",
       "      <td>...</td>\n",
       "      <td>...</td>\n",
       "      <td>...</td>\n",
       "      <td>...</td>\n",
       "      <td>...</td>\n",
       "      <td>...</td>\n",
       "      <td>...</td>\n",
       "      <td>...</td>\n",
       "      <td>...</td>\n",
       "      <td>...</td>\n",
       "      <td>...</td>\n",
       "      <td>...</td>\n",
       "      <td>...</td>\n",
       "      <td>...</td>\n",
       "      <td>...</td>\n",
       "      <td>...</td>\n",
       "      <td>...</td>\n",
       "      <td>...</td>\n",
       "      <td>...</td>\n",
       "    </tr>\n",
       "    <tr>\n",
       "      <th>5719582</th>\n",
       "      <td>32D2D2DD2D4FC59B</td>\n",
       "      <td>classic_bike</td>\n",
       "      <td>2023-12-31 23:47:13</td>\n",
       "      <td>2024-01-01 00:24:47</td>\n",
       "      <td>Daley Center Plaza</td>\n",
       "      <td>TA1306000010</td>\n",
       "      <td>Michigan Ave &amp; Lake St</td>\n",
       "      <td>TA1305000011</td>\n",
       "      <td>41.884241</td>\n",
       "      <td>-87.629634</td>\n",
       "      <td>...</td>\n",
       "      <td>23</td>\n",
       "      <td>2023-12</td>\n",
       "      <td>0 days 00:37:34</td>\n",
       "      <td>2023-12-31 23:47:13</td>\n",
       "      <td>38.0</td>\n",
       "      <td>2023-12-31</td>\n",
       "      <td>2023-12-31</td>\n",
       "      <td>36</td>\n",
       "      <td>31</td>\n",
       "      <td>33.5</td>\n",
       "    </tr>\n",
       "    <tr>\n",
       "      <th>5719583</th>\n",
       "      <td>6522C239F1DB5962</td>\n",
       "      <td>electric_bike</td>\n",
       "      <td>2023-12-31 23:47:19</td>\n",
       "      <td>2024-01-01 00:38:05</td>\n",
       "      <td>NaN</td>\n",
       "      <td>NaN</td>\n",
       "      <td>Streeter Dr &amp; Grand Ave</td>\n",
       "      <td>13022</td>\n",
       "      <td>41.890000</td>\n",
       "      <td>-87.610000</td>\n",
       "      <td>...</td>\n",
       "      <td>23</td>\n",
       "      <td>2023-12</td>\n",
       "      <td>0 days 00:50:46</td>\n",
       "      <td>2023-12-31 23:47:19</td>\n",
       "      <td>51.0</td>\n",
       "      <td>2023-12-31</td>\n",
       "      <td>2023-12-31</td>\n",
       "      <td>36</td>\n",
       "      <td>31</td>\n",
       "      <td>33.5</td>\n",
       "    </tr>\n",
       "    <tr>\n",
       "      <th>5719584</th>\n",
       "      <td>F7F941C434A9B292</td>\n",
       "      <td>electric_bike</td>\n",
       "      <td>2023-12-31 23:47:37</td>\n",
       "      <td>2024-01-01 00:19:01</td>\n",
       "      <td>Streeter Dr &amp; Grand Ave</td>\n",
       "      <td>13022</td>\n",
       "      <td>Dearborn St &amp; Monroe St</td>\n",
       "      <td>TA1305000006</td>\n",
       "      <td>41.892329</td>\n",
       "      <td>-87.612111</td>\n",
       "      <td>...</td>\n",
       "      <td>23</td>\n",
       "      <td>2023-12</td>\n",
       "      <td>0 days 00:31:24</td>\n",
       "      <td>2023-12-31 23:47:37</td>\n",
       "      <td>32.0</td>\n",
       "      <td>2023-12-31</td>\n",
       "      <td>2023-12-31</td>\n",
       "      <td>36</td>\n",
       "      <td>31</td>\n",
       "      <td>33.5</td>\n",
       "    </tr>\n",
       "    <tr>\n",
       "      <th>5719592</th>\n",
       "      <td>410CA25E4A4E09F3</td>\n",
       "      <td>electric_bike</td>\n",
       "      <td>2023-12-31 23:51:54</td>\n",
       "      <td>2024-01-01 00:27:02</td>\n",
       "      <td>Clark St &amp; Lake St</td>\n",
       "      <td>KA1503000012</td>\n",
       "      <td>Wabash Ave &amp; Wacker Pl</td>\n",
       "      <td>TA1307000131</td>\n",
       "      <td>41.885994</td>\n",
       "      <td>-87.631330</td>\n",
       "      <td>...</td>\n",
       "      <td>23</td>\n",
       "      <td>2023-12</td>\n",
       "      <td>0 days 00:35:08</td>\n",
       "      <td>2023-12-31 23:51:54</td>\n",
       "      <td>36.0</td>\n",
       "      <td>2023-12-31</td>\n",
       "      <td>2023-12-31</td>\n",
       "      <td>36</td>\n",
       "      <td>31</td>\n",
       "      <td>33.5</td>\n",
       "    </tr>\n",
       "    <tr>\n",
       "      <th>5719596</th>\n",
       "      <td>37B630E2462E2C02</td>\n",
       "      <td>electric_bike</td>\n",
       "      <td>2023-12-31 23:53:00</td>\n",
       "      <td>2024-01-01 00:27:12</td>\n",
       "      <td>Clark St &amp; Lake St</td>\n",
       "      <td>KA1503000012</td>\n",
       "      <td>Wabash Ave &amp; Wacker Pl</td>\n",
       "      <td>TA1307000131</td>\n",
       "      <td>41.885678</td>\n",
       "      <td>-87.631170</td>\n",
       "      <td>...</td>\n",
       "      <td>23</td>\n",
       "      <td>2023-12</td>\n",
       "      <td>0 days 00:34:12</td>\n",
       "      <td>2023-12-31 23:53:00</td>\n",
       "      <td>35.0</td>\n",
       "      <td>2023-12-31</td>\n",
       "      <td>2023-12-31</td>\n",
       "      <td>36</td>\n",
       "      <td>31</td>\n",
       "      <td>33.5</td>\n",
       "    </tr>\n",
       "  </tbody>\n",
       "</table>\n",
       "<p>354139 rows × 25 columns</p>\n",
       "</div>"
      ],
      "text/plain": [
       "                  ride_id  rideable_type          started_at  \\\n",
       "14       B862A548BC1B6470  electric_bike 2023-01-01 00:11:00   \n",
       "56       454214BA380A6E60    docked_bike 2023-01-01 00:23:36   \n",
       "58       50CFE5A0618D9F86  electric_bike 2023-01-01 00:23:49   \n",
       "59       8DA2A86022766D7C  electric_bike 2023-01-01 00:23:53   \n",
       "61       98F7647A5AD484DC    docked_bike 2023-01-01 00:24:09   \n",
       "...                   ...            ...                 ...   \n",
       "5719582  32D2D2DD2D4FC59B   classic_bike 2023-12-31 23:47:13   \n",
       "5719583  6522C239F1DB5962  electric_bike 2023-12-31 23:47:19   \n",
       "5719584  F7F941C434A9B292  electric_bike 2023-12-31 23:47:37   \n",
       "5719592  410CA25E4A4E09F3  electric_bike 2023-12-31 23:51:54   \n",
       "5719596  37B630E2462E2C02  electric_bike 2023-12-31 23:53:00   \n",
       "\n",
       "                   ended_at           start_station_name start_station_id  \\\n",
       "14      2023-01-01 00:42:27  North Ave & New England Ave              310   \n",
       "56      2023-01-11 06:36:39   LaSalle St & Washington St            13006   \n",
       "58      2023-01-01 00:55:02      Streeter Dr & Grand Ave            13022   \n",
       "59      2023-01-01 01:10:01      Streeter Dr & Grand Ave            13022   \n",
       "61      2023-01-11 06:36:36   LaSalle St & Washington St            13006   \n",
       "...                     ...                          ...              ...   \n",
       "5719582 2024-01-01 00:24:47           Daley Center Plaza     TA1306000010   \n",
       "5719583 2024-01-01 00:38:05                          NaN              NaN   \n",
       "5719584 2024-01-01 00:19:01      Streeter Dr & Grand Ave            13022   \n",
       "5719592 2024-01-01 00:27:02           Clark St & Lake St     KA1503000012   \n",
       "5719596 2024-01-01 00:27:12           Clark St & Lake St     KA1503000012   \n",
       "\n",
       "                end_station_name end_station_id  start_lat  start_lng  ...  \\\n",
       "14                           NaN            NaN  41.910000 -87.800000  ...   \n",
       "56                           NaN            NaN  41.882664 -87.632530  ...   \n",
       "58         Canal St & Madison St          13341  41.892181 -87.611778  ...   \n",
       "59            Shore Dr & 55th St   TA1308000009  41.892253 -87.611930  ...   \n",
       "61                           NaN            NaN  41.882664 -87.632530  ...   \n",
       "...                          ...            ...        ...        ...  ...   \n",
       "5719582   Michigan Ave & Lake St   TA1305000011  41.884241 -87.629634  ...   \n",
       "5719583  Streeter Dr & Grand Ave          13022  41.890000 -87.610000  ...   \n",
       "5719584  Dearborn St & Monroe St   TA1305000006  41.892329 -87.612111  ...   \n",
       "5719592   Wabash Ave & Wacker Pl   TA1307000131  41.885994 -87.631330  ...   \n",
       "5719596   Wabash Ave & Wacker Pl   TA1307000131  41.885678 -87.631170  ...   \n",
       "\n",
       "         started_at_hour    month        ride_time         ride_time_1  \\\n",
       "14                     0  2023-01  0 days 00:31:27 2023-01-01 00:11:00   \n",
       "56                     0  2023-01 10 days 06:13:03 2023-01-01 00:23:36   \n",
       "58                     0  2023-01  0 days 00:31:13 2023-01-01 00:23:49   \n",
       "59                     0  2023-01  0 days 00:46:08 2023-01-01 00:23:53   \n",
       "61                     0  2023-01 10 days 06:12:27 2023-01-01 00:24:09   \n",
       "...                  ...      ...              ...                 ...   \n",
       "5719582               23  2023-12  0 days 00:37:34 2023-12-31 23:47:13   \n",
       "5719583               23  2023-12  0 days 00:50:46 2023-12-31 23:47:19   \n",
       "5719584               23  2023-12  0 days 00:31:24 2023-12-31 23:47:37   \n",
       "5719592               23  2023-12  0 days 00:35:08 2023-12-31 23:51:54   \n",
       "5719596               23  2023-12  0 days 00:34:12 2023-12-31 23:53:00   \n",
       "\n",
       "        rides_in_minutes  start_date       Date Max Min   Avg  \n",
       "14                  32.0  2023-01-01 2023-01-01  45  37    41  \n",
       "56               14774.0  2023-01-01 2023-01-01  45  37    41  \n",
       "58                  32.0  2023-01-01 2023-01-01  45  37    41  \n",
       "59                  47.0  2023-01-01 2023-01-01  45  37    41  \n",
       "61               14773.0  2023-01-01 2023-01-01  45  37    41  \n",
       "...                  ...         ...        ...  ..  ..   ...  \n",
       "5719582             38.0  2023-12-31 2023-12-31  36  31  33.5  \n",
       "5719583             51.0  2023-12-31 2023-12-31  36  31  33.5  \n",
       "5719584             32.0  2023-12-31 2023-12-31  36  31  33.5  \n",
       "5719592             36.0  2023-12-31 2023-12-31  36  31  33.5  \n",
       "5719596             35.0  2023-12-31 2023-12-31  36  31  33.5  \n",
       "\n",
       "[354139 rows x 25 columns]"
      ]
     },
     "execution_count": 53,
     "metadata": {},
     "output_type": "execute_result"
    }
   ],
   "source": [
    "final_df_cas[final_df_cas['rides_in_minutes'] >= 30]"
   ]
  },
  {
   "cell_type": "code",
   "execution_count": null,
   "id": "97869f17",
   "metadata": {},
   "outputs": [],
   "source": []
  },
  {
   "cell_type": "code",
   "execution_count": null,
   "id": "2cffd24f",
   "metadata": {},
   "outputs": [],
   "source": []
  },
  {
   "cell_type": "code",
   "execution_count": null,
   "id": "7b3685c4",
   "metadata": {},
   "outputs": [],
   "source": [
    "final_df"
   ]
  },
  {
   "cell_type": "code",
   "execution_count": null,
   "id": "4b13cb20",
   "metadata": {},
   "outputs": [],
   "source": [
    "final_df.drop(columns = ['Max','Min'], inplace = True)"
   ]
  },
  {
   "cell_type": "code",
   "execution_count": null,
   "id": "9ad72df6",
   "metadata": {},
   "outputs": [],
   "source": [
    "final_df.rename(columns={\"Avg\":\"avg_temp\"}, inplace=True)"
   ]
  },
  {
   "cell_type": "code",
   "execution_count": null,
   "id": "831db5dd",
   "metadata": {},
   "outputs": [],
   "source": [
    "final_df"
   ]
  },
  {
   "cell_type": "code",
   "execution_count": null,
   "id": "c55876b1",
   "metadata": {},
   "outputs": [],
   "source": [
    "final_df.drop(columns = ['Date'], inplace = True)"
   ]
  },
  {
   "cell_type": "code",
   "execution_count": null,
   "id": "e008811e",
   "metadata": {},
   "outputs": [],
   "source": [
    "final_df"
   ]
  },
  {
   "cell_type": "code",
   "execution_count": null,
   "id": "2a691b84",
   "metadata": {},
   "outputs": [],
   "source": [
    "#final_df.to_csv('final_df.csv', index=False)"
   ]
  },
  {
   "cell_type": "code",
   "execution_count": null,
   "id": "15f6c77c",
   "metadata": {},
   "outputs": [],
   "source": [
    "num_rides_weather = final_df.groupby([\"start_date\",\"avg_temp\"])['started_at'].count()"
   ]
  },
  {
   "cell_type": "code",
   "execution_count": null,
   "id": "2c6fbdf3",
   "metadata": {},
   "outputs": [],
   "source": [
    "num_rides_weather"
   ]
  },
  {
   "cell_type": "code",
   "execution_count": null,
   "id": "9e1da47e",
   "metadata": {},
   "outputs": [],
   "source": [
    "num_rides_weather = pd.DataFrame(num_rides_weather).reset_index()"
   ]
  },
  {
   "cell_type": "code",
   "execution_count": null,
   "id": "0b662f92",
   "metadata": {},
   "outputs": [],
   "source": [
    "num_rides_weather"
   ]
  },
  {
   "cell_type": "code",
   "execution_count": null,
   "id": "0bb08a44",
   "metadata": {},
   "outputs": [],
   "source": [
    "#num_rides_weather.to_csv(\"num_rides_weather.csv\", index = False)"
   ]
  },
  {
   "cell_type": "code",
   "execution_count": null,
   "id": "38c24117",
   "metadata": {},
   "outputs": [],
   "source": [
    "final_df[\"start_end\"] = final_df[\"start_station_name\"] + \" / \" + final_df[\"end_station_name\"]"
   ]
  },
  {
   "cell_type": "code",
   "execution_count": null,
   "id": "327f027f",
   "metadata": {},
   "outputs": [],
   "source": [
    "final_df"
   ]
  },
  {
   "cell_type": "markdown",
   "id": "75b96729",
   "metadata": {},
   "source": [
    "# After talking with Alex"
   ]
  },
  {
   "cell_type": "code",
   "execution_count": null,
   "id": "a1f0987b",
   "metadata": {},
   "outputs": [],
   "source": [
    "route_usage = final_df.groupby(['start_end', 'started_at_day']).size().reset_index(name='ride_count')\n",
    "\n",
    "most_used_routes = route_usage.loc[route_usage.groupby('started_at_day')['ride_count'].idxmax()]"
   ]
  },
  {
   "cell_type": "code",
   "execution_count": null,
   "id": "eac9fd19",
   "metadata": {},
   "outputs": [],
   "source": [
    "most_used_routes"
   ]
  },
  {
   "cell_type": "code",
   "execution_count": null,
   "id": "1f307682",
   "metadata": {},
   "outputs": [],
   "source": [
    "route_usage = final_df.groupby(['start_end', 'started_at_day']).size().reset_index(name='ride_count')"
   ]
  },
  {
   "cell_type": "code",
   "execution_count": null,
   "id": "4b1cb343",
   "metadata": {},
   "outputs": [],
   "source": [
    "route_usage = route_usage.sort_values(by=['started_at_day', 'ride_count'], ascending=[True, False])"
   ]
  },
  {
   "cell_type": "code",
   "execution_count": null,
   "id": "2d34b070",
   "metadata": {},
   "outputs": [],
   "source": [
    "top_10_routes_per_day = route_usage.groupby('started_at_day').head(10).reset_index(drop=True)"
   ]
  },
  {
   "cell_type": "code",
   "execution_count": null,
   "id": "1b1c6883",
   "metadata": {},
   "outputs": [],
   "source": [
    "top_10_routes_per_day.head(60)"
   ]
  },
  {
   "cell_type": "code",
   "execution_count": null,
   "id": "822514bd",
   "metadata": {},
   "outputs": [],
   "source": [
    "#top_10_routes_per_day.to_csv(\"top_10_routes_per_day.csv\")"
   ]
  },
  {
   "cell_type": "code",
   "execution_count": null,
   "id": "47b18385",
   "metadata": {},
   "outputs": [],
   "source": [
    "##########"
   ]
  },
  {
   "cell_type": "code",
   "execution_count": null,
   "id": "bd33a829",
   "metadata": {},
   "outputs": [],
   "source": [
    "grouped = final_df.groupby(['started_at_day', 'start_end', 'member_casual']).size().reset_index(name='ride_count')\n",
    "\n",
    "# Pivot the data to have separate columns for member and casual ride counts\n",
    "pivoted = grouped.pivot_table(index=['started_at_day', 'start_end'], columns='member_casual', values='ride_count', fill_value=0).reset_index()\n",
    "\n",
    "# Add a column for the total ride counts\n",
    "pivoted['total_rides'] = pivoted['member'] + pivoted['casual']\n",
    "\n",
    "# Rank the routes based on the total ride counts within each day\n",
    "pivoted['rank'] = pivoted.groupby('started_at_day')['total_rides'].rank(method='first', ascending=False)\n",
    "\n",
    "# Filter to get the top 10 routes for each day\n",
    "top_10_routes_per_day = pivoted[pivoted['rank'] <= 10]\n",
    "\n",
    "# Sort the results for better readability\n",
    "top_10_routes_per_day = pd.DataFrame(top_10_routes_per_day.sort_values(by=['started_at_day', 'rank']))\n",
    "\n",
    "top_10_routes_per_day\n"
   ]
  },
  {
   "cell_type": "code",
   "execution_count": null,
   "id": "9dc0c7d4",
   "metadata": {},
   "outputs": [],
   "source": [
    "top_10_routes_per_day.head(60)"
   ]
  },
  {
   "cell_type": "code",
   "execution_count": null,
   "id": "16783c3f",
   "metadata": {},
   "outputs": [],
   "source": [
    "final_df_filtered = final_df[final_df['rides_in_minutes'] > 1]"
   ]
  },
  {
   "cell_type": "code",
   "execution_count": null,
   "id": "44195ef0",
   "metadata": {},
   "outputs": [],
   "source": [
    "final_df_filtered"
   ]
  },
  {
   "cell_type": "code",
   "execution_count": null,
   "id": "f0a67bea",
   "metadata": {},
   "outputs": [],
   "source": [
    "grouped_1 = final_df_filtered.groupby(['started_at_day', 'start_end', 'member_casual']).size().reset_index(name='ride_count')\n",
    "\n",
    "# Pivot the data to have separate columns for member and casual ride counts\n",
    "pivoted = grouped_1.pivot_table(index=['started_at_day', 'start_end'], columns='member_casual', values='ride_count', fill_value=0).reset_index()\n",
    "\n",
    "# Add a column for the total ride counts\n",
    "pivoted['total_rides'] = pivoted['member'] + pivoted['casual']\n",
    "\n",
    "# Rank the routes based on the total ride counts within each day\n",
    "pivoted['rank'] = pivoted.groupby('started_at_day')['total_rides'].rank(method='first', ascending=False)\n",
    "\n",
    "# Filter to get the top 10 routes for each day\n",
    "top_10_routes_per_day = pivoted[pivoted['rank'] <= 10]\n",
    "\n",
    "# Sort the results for better readability\n",
    "top_10_routes_per_day = pd.DataFrame(top_10_routes_per_day.sort_values(by=['started_at_day', 'rank']))\n",
    "\n",
    "top_10_routes_per_day"
   ]
  },
  {
   "cell_type": "code",
   "execution_count": null,
   "id": "636cc87f",
   "metadata": {},
   "outputs": [],
   "source": [
    "grouped = final_df.groupby(['started_at_day', 'start_end', 'member_casual']).agg(\n",
    "    ride_count=('rides_in_minutes', 'size'),\n",
    "    average_time=('rides_in_minutes', 'mean')\n",
    ").unstack(fill_value=0).reset_index()\n",
    "\n",
    "# Flatten the MultiIndex columns\n",
    "grouped.columns = ['_'.join(col).strip() for col in grouped.columns.values]\n",
    "grouped.rename(columns={\n",
    "    'started_at_day_': 'started_at_day',\n",
    "    'start_end_': 'start_end'\n",
    "}, inplace=True)\n",
    "\n",
    "# Calculate total rides for each route\n",
    "grouped['total_rides'] = grouped['ride_count_casual'] + grouped['ride_count_member']\n",
    "\n",
    "# For each day, get the top 10 routes by total_rides\n",
    "top_routes_per_day = grouped.sort_values(['started_at_day', 'total_rides'], ascending=[True, False])\n",
    "top_routes_per_day = top_routes_per_day.groupby('started_at_day').head(10)\n",
    "\n",
    "# Display the result\n",
    "top_routes_per_day\n"
   ]
  },
  {
   "cell_type": "code",
   "execution_count": null,
   "id": "b7611c13",
   "metadata": {},
   "outputs": [],
   "source": [
    "top_routes_per_day.head(60)"
   ]
  },
  {
   "cell_type": "code",
   "execution_count": null,
   "id": "37c60289",
   "metadata": {},
   "outputs": [],
   "source": [
    "top_routes_per_day.to_csv(\"top_routes_per_day_mem_cas_avg_time.csv\")"
   ]
  },
  {
   "cell_type": "code",
   "execution_count": null,
   "id": "df8238f4",
   "metadata": {},
   "outputs": [],
   "source": []
  },
  {
   "cell_type": "code",
   "execution_count": null,
   "id": "d87b16bb",
   "metadata": {},
   "outputs": [],
   "source": [
    "#################"
   ]
  },
  {
   "cell_type": "code",
   "execution_count": null,
   "id": "bfbefd06",
   "metadata": {},
   "outputs": [],
   "source": [
    "grouped_2 = final_df_filtered.groupby(['started_at_day', 'start_station_name', 'member_casual']).agg(\n",
    "    ride_count=('rides_in_minutes', 'size'),\n",
    "    average_time=('rides_in_minutes', 'mean')\n",
    ").unstack(fill_value=0).reset_index()\n",
    "\n",
    "# Flatten the MultiIndex columns\n",
    "grouped_2.columns = ['_'.join(col).strip() for col in grouped_2.columns.values]\n",
    "grouped_2.rename(columns={\n",
    "    'started_at_day_': 'started_at_day',\n",
    "    'start_end_': 'start_end'\n",
    "}, inplace=True)\n",
    "\n",
    "# Calculate total rides for each route\n",
    "grouped_2['total_rides'] = grouped_2['ride_count_casual'] + grouped_2['ride_count_member']\n",
    "\n",
    "# For each day, get the top 10 routes by total_rides\n",
    "top_routes_per_day_start = grouped_2.sort_values(['started_at_day', 'total_rides'], ascending=[True, False])\n",
    "top_routes_per_day_start = top_routes_per_day_start.groupby('started_at_day').head(10)\n",
    "\n",
    "# Display the result\n",
    "top_routes_per_day_start"
   ]
  },
  {
   "cell_type": "code",
   "execution_count": null,
   "id": "b9e7cbbb",
   "metadata": {},
   "outputs": [],
   "source": [
    "top_routes_per_day_start.head(60)"
   ]
  },
  {
   "cell_type": "code",
   "execution_count": null,
   "id": "2ea9a29f",
   "metadata": {},
   "outputs": [],
   "source": [
    "top_routes_per_day_start.to_csv(\"top_routes_per_day_start.csv\")"
   ]
  },
  {
   "cell_type": "markdown",
   "id": "d96b0a4e",
   "metadata": {},
   "source": [
    "# Taking a subset of the data for Tableau Maping"
   ]
  },
  {
   "cell_type": "code",
   "execution_count": null,
   "id": "bbd05f1c",
   "metadata": {},
   "outputs": [],
   "source": [
    "subset_df = final_df_filtered.sample(frac=0.2, random_state=42)"
   ]
  },
  {
   "cell_type": "code",
   "execution_count": null,
   "id": "d030938b",
   "metadata": {},
   "outputs": [],
   "source": [
    "subset_df.to_csv(\"subset_df.csv\")"
   ]
  },
  {
   "cell_type": "code",
   "execution_count": null,
   "id": "8a329f64",
   "metadata": {},
   "outputs": [],
   "source": [
    "subset_df_10 = final_df_filtered.sample(frac = 0.1, random_state=0)"
   ]
  },
  {
   "cell_type": "code",
   "execution_count": null,
   "id": "4025097e",
   "metadata": {},
   "outputs": [],
   "source": [
    "subset_df_10.to_csv(\"subset_df_10.csv\")"
   ]
  },
  {
   "cell_type": "markdown",
   "id": "6af16062",
   "metadata": {},
   "source": [
    "# Mapping the dates into Seasons"
   ]
  },
  {
   "cell_type": "code",
   "execution_count": null,
   "id": "d52c9231",
   "metadata": {},
   "outputs": [],
   "source": [
    "if final_df_filtered[\"start_date\"] >= datetime(2023, 12, 21) or final_df_filtered[\"start_date\"] <= datetime(2023, 3, 20):\n",
    "     \"Winter\"\n",
    "elif datetime(2023, 3, 21) <= final_df_filtered[\"start_date\"] <= datetime(2023, 6, 20):\n",
    "    \"Spring\"\n",
    "elif datetime(2023, 6, 21) <= final_df_filtered[\"start_date\"] <= datetime(2023, 9, 20):\n",
    "    \"Summer\"\n",
    "elif datetime(2023, 9, 21) <= final_df_filtered[\"start_date\"] <= datetime(2023, 12, 20):\n",
    "    \"Fall\"\n",
    "else:\n",
    "    None"
   ]
  },
  {
   "cell_type": "code",
   "execution_count": null,
   "id": "4f155f6d",
   "metadata": {},
   "outputs": [],
   "source": [
    "def get_season(date):\n",
    "    if date >= datetime(date.year, 12, 21) or date <= datetime(date.year, 3, 20):\n",
    "        return \"Winter\"\n",
    "    elif datetime(date.year, 3, 21) <= date <= datetime(date.year, 6, 20):\n",
    "        return \"Spring\"\n",
    "    elif datetime(date.year, 6, 21) <= date <= datetime(date.year, 9, 20):\n",
    "        return \"Summer\"\n",
    "    elif datetime(date.year, 9, 21) <= date <= datetime(date.year, 12, 20):\n",
    "        return \"Fall\"\n",
    "    return None\n",
    "\n",
    "# Apply the function to the 'start_date' column and create a new 'season' column\n",
    "final_df_filtered['season'] = final_df_filtered['start_date'].apply(get_season)"
   ]
  },
  {
   "cell_type": "code",
   "execution_count": null,
   "id": "856310b3",
   "metadata": {},
   "outputs": [],
   "source": [
    "final_df_filtered"
   ]
  },
  {
   "cell_type": "code",
   "execution_count": null,
   "id": "ecc80836",
   "metadata": {},
   "outputs": [],
   "source": [
    "#final_df_filtered.to_csv(\"final_df_filtered.csv\")"
   ]
  },
  {
   "cell_type": "code",
   "execution_count": null,
   "id": "61a81e5a",
   "metadata": {},
   "outputs": [],
   "source": [
    "final_df_filtered['start_station_name'].value_counts()"
   ]
  }
 ],
 "metadata": {
  "kernelspec": {
   "display_name": "Python 3 (ipykernel)",
   "language": "python",
   "name": "python3"
  },
  "language_info": {
   "codemirror_mode": {
    "name": "ipython",
    "version": 3
   },
   "file_extension": ".py",
   "mimetype": "text/x-python",
   "name": "python",
   "nbconvert_exporter": "python",
   "pygments_lexer": "ipython3",
   "version": "3.9.13"
  }
 },
 "nbformat": 4,
 "nbformat_minor": 5
}
